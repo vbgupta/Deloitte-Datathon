{
  "nbformat": 4,
  "nbformat_minor": 0,
  "metadata": {
    "colab": {
      "name": "Main Deloitte.ipynb",
      "provenance": []
    },
    "kernelspec": {
      "name": "python3",
      "display_name": "Python 3"
    }
  },
  "cells": [
    {
      "cell_type": "markdown",
      "metadata": {
        "id": "mmzlkZpP1zRl"
      },
      "source": [
        "# **Penn State Deloitte Datathon**\n",
        "\n",
        "\n",
        "#### **Cracking the Case with Deloitte Consulting** \n",
        "\n",
        "#### Objective:\n",
        "To leverge data provided by deloitte of the 3 cities to find a sutiable market to deploy a ride sharing service."
      ]
    },
    {
      "cell_type": "code",
      "metadata": {
        "id": "wGVtPVpxY5BC"
      },
      "source": [
        "# importing pakages\n",
        "import pandas as pd\n",
        "import numpy as np\n",
        "import matplotlib.pyplot as plt\n",
        "%matplotlib inline"
      ],
      "execution_count": null,
      "outputs": []
    },
    {
      "cell_type": "code",
      "metadata": {
        "id": "RAtuGXqxZniN",
        "outputId": "10452a69-88bb-4cd1-df0a-f63c462a28ac",
        "colab": {
          "base_uri": "https://localhost:8080/",
          "height": 54
        }
      },
      "source": [
        "# mount drive\n",
        "from google.colab import drive\n",
        "drive.mount('/content/drive')"
      ],
      "execution_count": null,
      "outputs": [
        {
          "output_type": "stream",
          "text": [
            "Drive already mounted at /content/drive; to attempt to forcibly remount, call drive.mount(\"/content/drive\", force_remount=True).\n"
          ],
          "name": "stdout"
        }
      ]
    },
    {
      "cell_type": "code",
      "metadata": {
        "id": "Sa5DX8_paS0c",
        "outputId": "7ac7eb82-ab85-4845-ba31-cf74c19d4050",
        "colab": {
          "base_uri": "https://localhost:8080/",
          "height": 51
        }
      },
      "source": [
        "# list of datasets in the folder in drive\n",
        "!ls drive/'My Drive'/Deloitte_Datathon"
      ],
      "execution_count": null,
      "outputs": [
        {
          "output_type": "stream",
          "text": [
            "Denver-Consumer.csv    Miami-Consumer.data.csv\tPortland-Consumer-Data.csv\n",
            "Denver-Rider-Data.csv  Miami-Rider-Data.csv\tPortland-Rider-Data.csv\n"
          ],
          "name": "stdout"
        }
      ]
    },
    {
      "cell_type": "markdown",
      "metadata": {
        "id": "nZCi2_2q1vow"
      },
      "source": [
        "## **Cleaning Data**"
      ]
    },
    {
      "cell_type": "markdown",
      "metadata": {
        "id": "W3AukGRv2pg9"
      },
      "source": [
        "### Denver Data"
      ]
    },
    {
      "cell_type": "code",
      "metadata": {
        "id": "lwMdt71oZ8_s"
      },
      "source": [
        "# creating path\n",
        "path_dc = \"/content/drive/My Drive/Deloitte_Datathon/Denver-Consumer.csv\""
      ],
      "execution_count": null,
      "outputs": []
    },
    {
      "cell_type": "code",
      "metadata": {
        "id": "uB1HXSh7ajAm",
        "outputId": "9502f222-543f-4138-f3ac-92c20c098791",
        "colab": {
          "base_uri": "https://localhost:8080/",
          "height": 343
        }
      },
      "source": [
        "# Denver-Consumer data\n",
        "denver_consumer = pd.read_csv(path_dc)\n",
        "denver_consumer.head(5)"
      ],
      "execution_count": null,
      "outputs": [
        {
          "output_type": "execute_result",
          "data": {
            "text/html": [
              "<div>\n",
              "<style scoped>\n",
              "    .dataframe tbody tr th:only-of-type {\n",
              "        vertical-align: middle;\n",
              "    }\n",
              "\n",
              "    .dataframe tbody tr th {\n",
              "        vertical-align: top;\n",
              "    }\n",
              "\n",
              "    .dataframe thead th {\n",
              "        text-align: right;\n",
              "    }\n",
              "</style>\n",
              "<table border=\"1\" class=\"dataframe\">\n",
              "  <thead>\n",
              "    <tr style=\"text-align: right;\">\n",
              "      <th></th>\n",
              "      <th>first_name</th>\n",
              "      <th>last_name</th>\n",
              "      <th>Date of Birth</th>\n",
              "      <th>Current Job</th>\n",
              "      <th>Company</th>\n",
              "      <th>Employee Number</th>\n",
              "      <th>Annual Salary</th>\n",
              "      <th>Total Debt</th>\n",
              "      <th>Number of Credit Cards</th>\n",
              "      <th>Number of Cars</th>\n",
              "      <th>Distance to work (in miles)</th>\n",
              "      <th>Living Situation</th>\n",
              "    </tr>\n",
              "  </thead>\n",
              "  <tbody>\n",
              "    <tr>\n",
              "      <th>0</th>\n",
              "      <td>Merralee</td>\n",
              "      <td>Fielding</td>\n",
              "      <td>9/14/2004</td>\n",
              "      <td>Chemical Engineer</td>\n",
              "      <td>Divavu</td>\n",
              "      <td>2284428037</td>\n",
              "      <td>$121,099.10</td>\n",
              "      <td>$14,058.12</td>\n",
              "      <td>10</td>\n",
              "      <td>0</td>\n",
              "      <td>22.62</td>\n",
              "      <td>House</td>\n",
              "    </tr>\n",
              "    <tr>\n",
              "      <th>1</th>\n",
              "      <td>Marcel</td>\n",
              "      <td>Moorcraft</td>\n",
              "      <td>5/9/1962</td>\n",
              "      <td>Chemical Engineer</td>\n",
              "      <td>Flashdog</td>\n",
              "      <td>1707102856</td>\n",
              "      <td>$133,771.96</td>\n",
              "      <td>NaN</td>\n",
              "      <td>2</td>\n",
              "      <td>0</td>\n",
              "      <td>16.95</td>\n",
              "      <td>Townhouse</td>\n",
              "    </tr>\n",
              "    <tr>\n",
              "      <th>2</th>\n",
              "      <td>Conant</td>\n",
              "      <td>Daventry</td>\n",
              "      <td>9/21/1971</td>\n",
              "      <td>Chemical Engineer</td>\n",
              "      <td>Kaymbo</td>\n",
              "      <td>5079418443</td>\n",
              "      <td>$128,206.25</td>\n",
              "      <td>$17,768.26</td>\n",
              "      <td>7</td>\n",
              "      <td>1</td>\n",
              "      <td>15.50</td>\n",
              "      <td>NaN</td>\n",
              "    </tr>\n",
              "    <tr>\n",
              "      <th>3</th>\n",
              "      <td>Rosalinde</td>\n",
              "      <td>Ruffli</td>\n",
              "      <td>12/13/1984</td>\n",
              "      <td>General Manager</td>\n",
              "      <td>Skinix</td>\n",
              "      <td>4638424597</td>\n",
              "      <td>$108,585.12</td>\n",
              "      <td>$13,829.24</td>\n",
              "      <td>8</td>\n",
              "      <td>0</td>\n",
              "      <td>17.85</td>\n",
              "      <td>NaN</td>\n",
              "    </tr>\n",
              "    <tr>\n",
              "      <th>4</th>\n",
              "      <td>Walt</td>\n",
              "      <td>Tibbotts</td>\n",
              "      <td>6/24/1996</td>\n",
              "      <td>Paralegal</td>\n",
              "      <td>Jamia</td>\n",
              "      <td>8436172477</td>\n",
              "      <td>$129,785.46</td>\n",
              "      <td>NaN</td>\n",
              "      <td>1</td>\n",
              "      <td>1</td>\n",
              "      <td>19.70</td>\n",
              "      <td>Townhouse</td>\n",
              "    </tr>\n",
              "  </tbody>\n",
              "</table>\n",
              "</div>"
            ],
            "text/plain": [
              "  first_name  last_name  ... Distance to work (in miles) Living Situation\n",
              "0   Merralee   Fielding  ...                       22.62            House\n",
              "1     Marcel  Moorcraft  ...                       16.95        Townhouse\n",
              "2     Conant   Daventry  ...                       15.50              NaN\n",
              "3  Rosalinde     Ruffli  ...                       17.85              NaN\n",
              "4       Walt   Tibbotts  ...                       19.70        Townhouse\n",
              "\n",
              "[5 rows x 12 columns]"
            ]
          },
          "metadata": {
            "tags": []
          },
          "execution_count": 220
        }
      ]
    },
    {
      "cell_type": "code",
      "metadata": {
        "id": "Wvt-cbu2cwz9",
        "outputId": "206df80c-38a4-45c6-9cd2-7988ae4cecd6",
        "colab": {
          "base_uri": "https://localhost:8080/",
          "height": 34
        }
      },
      "source": [
        "denver_consumer.size"
      ],
      "execution_count": null,
      "outputs": [
        {
          "output_type": "execute_result",
          "data": {
            "text/plain": [
              "1050000"
            ]
          },
          "metadata": {
            "tags": []
          },
          "execution_count": 221
        }
      ]
    },
    {
      "cell_type": "code",
      "metadata": {
        "id": "UrvdcVYJdCr8",
        "outputId": "dac8c8ef-cee3-44e5-abef-5a2325fc835f",
        "colab": {
          "base_uri": "https://localhost:8080/",
          "height": 34
        }
      },
      "source": [
        "denver_consumer.dropna(inplace = True)\n",
        "print(denver_consumer.size)"
      ],
      "execution_count": null,
      "outputs": [
        {
          "output_type": "stream",
          "text": [
            "783984\n"
          ],
          "name": "stdout"
        }
      ]
    },
    {
      "cell_type": "code",
      "metadata": {
        "id": "_3glOC6ZfWRF",
        "outputId": "b9eb47b9-3880-4186-b930-1a7877ebc946",
        "colab": {
          "base_uri": "https://localhost:8080/",
          "height": 360
        }
      },
      "source": [
        "denver_consumer.head(5)"
      ],
      "execution_count": null,
      "outputs": [
        {
          "output_type": "execute_result",
          "data": {
            "text/html": [
              "<div>\n",
              "<style scoped>\n",
              "    .dataframe tbody tr th:only-of-type {\n",
              "        vertical-align: middle;\n",
              "    }\n",
              "\n",
              "    .dataframe tbody tr th {\n",
              "        vertical-align: top;\n",
              "    }\n",
              "\n",
              "    .dataframe thead th {\n",
              "        text-align: right;\n",
              "    }\n",
              "</style>\n",
              "<table border=\"1\" class=\"dataframe\">\n",
              "  <thead>\n",
              "    <tr style=\"text-align: right;\">\n",
              "      <th></th>\n",
              "      <th>first_name</th>\n",
              "      <th>last_name</th>\n",
              "      <th>Date of Birth</th>\n",
              "      <th>Current Job</th>\n",
              "      <th>Company</th>\n",
              "      <th>Employee Number</th>\n",
              "      <th>Annual Salary</th>\n",
              "      <th>Total Debt</th>\n",
              "      <th>Number of Credit Cards</th>\n",
              "      <th>Number of Cars</th>\n",
              "      <th>Distance to work (in miles)</th>\n",
              "      <th>Living Situation</th>\n",
              "    </tr>\n",
              "  </thead>\n",
              "  <tbody>\n",
              "    <tr>\n",
              "      <th>0</th>\n",
              "      <td>Merralee</td>\n",
              "      <td>Fielding</td>\n",
              "      <td>9/14/2004</td>\n",
              "      <td>Chemical Engineer</td>\n",
              "      <td>Divavu</td>\n",
              "      <td>2284428037</td>\n",
              "      <td>$121,099.10</td>\n",
              "      <td>$14,058.12</td>\n",
              "      <td>10</td>\n",
              "      <td>0</td>\n",
              "      <td>22.62</td>\n",
              "      <td>House</td>\n",
              "    </tr>\n",
              "    <tr>\n",
              "      <th>5</th>\n",
              "      <td>Kristofor</td>\n",
              "      <td>Gudde</td>\n",
              "      <td>9/4/1987</td>\n",
              "      <td>Analyst Programmer</td>\n",
              "      <td>Gigazoom</td>\n",
              "      <td>9523736922</td>\n",
              "      <td>$131,612.54</td>\n",
              "      <td>$27,093.66</td>\n",
              "      <td>9</td>\n",
              "      <td>0</td>\n",
              "      <td>21.96</td>\n",
              "      <td>Studio</td>\n",
              "    </tr>\n",
              "    <tr>\n",
              "      <th>6</th>\n",
              "      <td>Dulci</td>\n",
              "      <td>Lys</td>\n",
              "      <td>11/9/1997</td>\n",
              "      <td>Analyst Programmer</td>\n",
              "      <td>Skalith</td>\n",
              "      <td>4057823808</td>\n",
              "      <td>$123,572.77</td>\n",
              "      <td>$34,334.27</td>\n",
              "      <td>9</td>\n",
              "      <td>0</td>\n",
              "      <td>13.29</td>\n",
              "      <td>House</td>\n",
              "    </tr>\n",
              "    <tr>\n",
              "      <th>7</th>\n",
              "      <td>Kalina</td>\n",
              "      <td>Ebourne</td>\n",
              "      <td>2/16/2002</td>\n",
              "      <td>Analyst Programmer</td>\n",
              "      <td>Zoonoodle</td>\n",
              "      <td>5252082030</td>\n",
              "      <td>$129,468.32</td>\n",
              "      <td>$2,771.08</td>\n",
              "      <td>8</td>\n",
              "      <td>0</td>\n",
              "      <td>16.23</td>\n",
              "      <td>Apartment</td>\n",
              "    </tr>\n",
              "    <tr>\n",
              "      <th>8</th>\n",
              "      <td>Marlow</td>\n",
              "      <td>Berridge</td>\n",
              "      <td>12/1/1989</td>\n",
              "      <td>Nurse Practicioner</td>\n",
              "      <td>Wordify</td>\n",
              "      <td>9716298862</td>\n",
              "      <td>$129,346.61</td>\n",
              "      <td>$33,315.67</td>\n",
              "      <td>8</td>\n",
              "      <td>1</td>\n",
              "      <td>32.89</td>\n",
              "      <td>Studio</td>\n",
              "    </tr>\n",
              "  </tbody>\n",
              "</table>\n",
              "</div>"
            ],
            "text/plain": [
              "  first_name last_name  ... Distance to work (in miles) Living Situation\n",
              "0   Merralee  Fielding  ...                       22.62            House\n",
              "5  Kristofor     Gudde  ...                       21.96           Studio\n",
              "6      Dulci       Lys  ...                       13.29            House\n",
              "7     Kalina   Ebourne  ...                       16.23        Apartment\n",
              "8     Marlow  Berridge  ...                       32.89           Studio\n",
              "\n",
              "[5 rows x 12 columns]"
            ]
          },
          "metadata": {
            "tags": []
          },
          "execution_count": 223
        }
      ]
    },
    {
      "cell_type": "code",
      "metadata": {
        "id": "6D8EbnNNgEy-",
        "outputId": "6e3bba2f-5e4a-40c2-9cce-160530e19547",
        "colab": {
          "base_uri": "https://localhost:8080/",
          "height": 244
        }
      },
      "source": [
        "denver_consumer.drop([\"Employee Number\", \"Company\"], axis = 1, inplace = True)\n",
        "denver_consumer.head(3)"
      ],
      "execution_count": null,
      "outputs": [
        {
          "output_type": "execute_result",
          "data": {
            "text/html": [
              "<div>\n",
              "<style scoped>\n",
              "    .dataframe tbody tr th:only-of-type {\n",
              "        vertical-align: middle;\n",
              "    }\n",
              "\n",
              "    .dataframe tbody tr th {\n",
              "        vertical-align: top;\n",
              "    }\n",
              "\n",
              "    .dataframe thead th {\n",
              "        text-align: right;\n",
              "    }\n",
              "</style>\n",
              "<table border=\"1\" class=\"dataframe\">\n",
              "  <thead>\n",
              "    <tr style=\"text-align: right;\">\n",
              "      <th></th>\n",
              "      <th>first_name</th>\n",
              "      <th>last_name</th>\n",
              "      <th>Date of Birth</th>\n",
              "      <th>Current Job</th>\n",
              "      <th>Annual Salary</th>\n",
              "      <th>Total Debt</th>\n",
              "      <th>Number of Credit Cards</th>\n",
              "      <th>Number of Cars</th>\n",
              "      <th>Distance to work (in miles)</th>\n",
              "      <th>Living Situation</th>\n",
              "    </tr>\n",
              "  </thead>\n",
              "  <tbody>\n",
              "    <tr>\n",
              "      <th>0</th>\n",
              "      <td>Merralee</td>\n",
              "      <td>Fielding</td>\n",
              "      <td>9/14/2004</td>\n",
              "      <td>Chemical Engineer</td>\n",
              "      <td>$121,099.10</td>\n",
              "      <td>$14,058.12</td>\n",
              "      <td>10</td>\n",
              "      <td>0</td>\n",
              "      <td>22.62</td>\n",
              "      <td>House</td>\n",
              "    </tr>\n",
              "    <tr>\n",
              "      <th>5</th>\n",
              "      <td>Kristofor</td>\n",
              "      <td>Gudde</td>\n",
              "      <td>9/4/1987</td>\n",
              "      <td>Analyst Programmer</td>\n",
              "      <td>$131,612.54</td>\n",
              "      <td>$27,093.66</td>\n",
              "      <td>9</td>\n",
              "      <td>0</td>\n",
              "      <td>21.96</td>\n",
              "      <td>Studio</td>\n",
              "    </tr>\n",
              "    <tr>\n",
              "      <th>6</th>\n",
              "      <td>Dulci</td>\n",
              "      <td>Lys</td>\n",
              "      <td>11/9/1997</td>\n",
              "      <td>Analyst Programmer</td>\n",
              "      <td>$123,572.77</td>\n",
              "      <td>$34,334.27</td>\n",
              "      <td>9</td>\n",
              "      <td>0</td>\n",
              "      <td>13.29</td>\n",
              "      <td>House</td>\n",
              "    </tr>\n",
              "  </tbody>\n",
              "</table>\n",
              "</div>"
            ],
            "text/plain": [
              "  first_name last_name  ... Distance to work (in miles) Living Situation\n",
              "0   Merralee  Fielding  ...                       22.62            House\n",
              "5  Kristofor     Gudde  ...                       21.96           Studio\n",
              "6      Dulci       Lys  ...                       13.29            House\n",
              "\n",
              "[3 rows x 10 columns]"
            ]
          },
          "metadata": {
            "tags": []
          },
          "execution_count": 224
        }
      ]
    },
    {
      "cell_type": "code",
      "metadata": {
        "id": "Xwpkl62SasV2"
      },
      "source": [
        "path_rd = \"/content/drive/My Drive/Deloitte_Datathon/Denver-Rider-Data.csv\""
      ],
      "execution_count": null,
      "outputs": []
    },
    {
      "cell_type": "code",
      "metadata": {
        "id": "BasVLcsublKL",
        "outputId": "a4a51607-6c7f-4ff2-ba5f-37b5326212bf",
        "colab": {
          "base_uri": "https://localhost:8080/",
          "height": 275
        }
      },
      "source": [
        "denver_rider = pd.read_csv(path_rd)\n",
        "denver_rider.tail(5)"
      ],
      "execution_count": null,
      "outputs": [
        {
          "output_type": "execute_result",
          "data": {
            "text/html": [
              "<div>\n",
              "<style scoped>\n",
              "    .dataframe tbody tr th:only-of-type {\n",
              "        vertical-align: middle;\n",
              "    }\n",
              "\n",
              "    .dataframe tbody tr th {\n",
              "        vertical-align: top;\n",
              "    }\n",
              "\n",
              "    .dataframe thead th {\n",
              "        text-align: right;\n",
              "    }\n",
              "</style>\n",
              "<table border=\"1\" class=\"dataframe\">\n",
              "  <thead>\n",
              "    <tr style=\"text-align: right;\">\n",
              "      <th></th>\n",
              "      <th>Rider First Name</th>\n",
              "      <th>Rider Last Name</th>\n",
              "      <th>Credit Card Number</th>\n",
              "      <th>Credit Card Type</th>\n",
              "      <th>Vendor</th>\n",
              "      <th>Trip Distance (in Miles)</th>\n",
              "      <th>Trip Cost</th>\n",
              "      <th>Trip Time (in Minutes)</th>\n",
              "      <th>Car Make</th>\n",
              "      <th>Car Year</th>\n",
              "      <th>Vin Number</th>\n",
              "    </tr>\n",
              "  </thead>\n",
              "  <tbody>\n",
              "    <tr>\n",
              "      <th>99995</th>\n",
              "      <td>Bernadine</td>\n",
              "      <td>MacDowal</td>\n",
              "      <td>5.020000e+16</td>\n",
              "      <td>maestro</td>\n",
              "      <td>Lyft</td>\n",
              "      <td>16.89</td>\n",
              "      <td>$32.98</td>\n",
              "      <td>29.12</td>\n",
              "      <td>Lexus</td>\n",
              "      <td>2007</td>\n",
              "      <td>WAUJC68E65A960548</td>\n",
              "    </tr>\n",
              "    <tr>\n",
              "      <th>99996</th>\n",
              "      <td>Christiana</td>\n",
              "      <td>Downey</td>\n",
              "      <td>5.610000e+15</td>\n",
              "      <td>bankcard</td>\n",
              "      <td>Lyft</td>\n",
              "      <td>22.34</td>\n",
              "      <td>$36.50</td>\n",
              "      <td>38.52</td>\n",
              "      <td>GMC</td>\n",
              "      <td>2011</td>\n",
              "      <td>WBAWL13558P033316</td>\n",
              "    </tr>\n",
              "    <tr>\n",
              "      <th>99997</th>\n",
              "      <td>Karil</td>\n",
              "      <td>Haps</td>\n",
              "      <td>3.590000e+15</td>\n",
              "      <td>jcb</td>\n",
              "      <td>Lyft</td>\n",
              "      <td>11.69</td>\n",
              "      <td>$33.25</td>\n",
              "      <td>20.16</td>\n",
              "      <td>Ford</td>\n",
              "      <td>2004</td>\n",
              "      <td>JN1CV6FE3FM577551</td>\n",
              "    </tr>\n",
              "    <tr>\n",
              "      <th>99998</th>\n",
              "      <td>Margret</td>\n",
              "      <td>Diggin</td>\n",
              "      <td>5.600000e+15</td>\n",
              "      <td>bankcard</td>\n",
              "      <td>Lyft</td>\n",
              "      <td>22.85</td>\n",
              "      <td>$26.39</td>\n",
              "      <td>39.40</td>\n",
              "      <td>Ford</td>\n",
              "      <td>2007</td>\n",
              "      <td>1FMNE1BW8AD805004</td>\n",
              "    </tr>\n",
              "    <tr>\n",
              "      <th>99999</th>\n",
              "      <td>Jannelle</td>\n",
              "      <td>Cock</td>\n",
              "      <td>5.470000e+15</td>\n",
              "      <td>mastercard</td>\n",
              "      <td>Lyft</td>\n",
              "      <td>9.14</td>\n",
              "      <td>$37.00</td>\n",
              "      <td>15.77</td>\n",
              "      <td>Lincoln</td>\n",
              "      <td>2008</td>\n",
              "      <td>WAUDK78T89A391549</td>\n",
              "    </tr>\n",
              "  </tbody>\n",
              "</table>\n",
              "</div>"
            ],
            "text/plain": [
              "      Rider First Name Rider Last Name  ...  Car Year         Vin Number\n",
              "99995        Bernadine        MacDowal  ...      2007  WAUJC68E65A960548\n",
              "99996       Christiana          Downey  ...      2011  WBAWL13558P033316\n",
              "99997            Karil            Haps  ...      2004  JN1CV6FE3FM577551\n",
              "99998          Margret          Diggin  ...      2007  1FMNE1BW8AD805004\n",
              "99999         Jannelle            Cock  ...      2008  WAUDK78T89A391549\n",
              "\n",
              "[5 rows x 11 columns]"
            ]
          },
          "metadata": {
            "tags": []
          },
          "execution_count": 226
        }
      ]
    },
    {
      "cell_type": "code",
      "metadata": {
        "id": "fRhmJ2cei9B3",
        "outputId": "db26c747-d32c-4e22-b0e4-4e3a6f58b65e",
        "colab": {
          "base_uri": "https://localhost:8080/",
          "height": 524
        }
      },
      "source": [
        "denver_rider.Vendor.unique()\n",
        "denver_rider[denver_rider['Vendor'] == 'Uber']"
      ],
      "execution_count": null,
      "outputs": [
        {
          "output_type": "execute_result",
          "data": {
            "text/html": [
              "<div>\n",
              "<style scoped>\n",
              "    .dataframe tbody tr th:only-of-type {\n",
              "        vertical-align: middle;\n",
              "    }\n",
              "\n",
              "    .dataframe tbody tr th {\n",
              "        vertical-align: top;\n",
              "    }\n",
              "\n",
              "    .dataframe thead th {\n",
              "        text-align: right;\n",
              "    }\n",
              "</style>\n",
              "<table border=\"1\" class=\"dataframe\">\n",
              "  <thead>\n",
              "    <tr style=\"text-align: right;\">\n",
              "      <th></th>\n",
              "      <th>Rider First Name</th>\n",
              "      <th>Rider Last Name</th>\n",
              "      <th>Credit Card Number</th>\n",
              "      <th>Credit Card Type</th>\n",
              "      <th>Vendor</th>\n",
              "      <th>Trip Distance (in Miles)</th>\n",
              "      <th>Trip Cost</th>\n",
              "      <th>Trip Time (in Minutes)</th>\n",
              "      <th>Car Make</th>\n",
              "      <th>Car Year</th>\n",
              "      <th>Vin Number</th>\n",
              "    </tr>\n",
              "  </thead>\n",
              "  <tbody>\n",
              "    <tr>\n",
              "      <th>43071</th>\n",
              "      <td>Clayborn</td>\n",
              "      <td>Cutsforth</td>\n",
              "      <td>5.600000e+15</td>\n",
              "      <td>bankcard</td>\n",
              "      <td>Uber</td>\n",
              "      <td>22.62</td>\n",
              "      <td>$27.36</td>\n",
              "      <td>39.00</td>\n",
              "      <td>Rolls-Royce</td>\n",
              "      <td>2011</td>\n",
              "      <td>NaN</td>\n",
              "    </tr>\n",
              "    <tr>\n",
              "      <th>43072</th>\n",
              "      <td>Helene</td>\n",
              "      <td>Bowyer</td>\n",
              "      <td>4.040000e+15</td>\n",
              "      <td>visa</td>\n",
              "      <td>Uber</td>\n",
              "      <td>16.95</td>\n",
              "      <td>$23.41</td>\n",
              "      <td>29.23</td>\n",
              "      <td>Jeep</td>\n",
              "      <td>1996</td>\n",
              "      <td>NaN</td>\n",
              "    </tr>\n",
              "    <tr>\n",
              "      <th>43073</th>\n",
              "      <td>Risa</td>\n",
              "      <td>Wethered</td>\n",
              "      <td>NaN</td>\n",
              "      <td>bankcard</td>\n",
              "      <td>Uber</td>\n",
              "      <td>15.50</td>\n",
              "      <td>$22.19</td>\n",
              "      <td>26.73</td>\n",
              "      <td>Chevrolet</td>\n",
              "      <td>2000</td>\n",
              "      <td>NaN</td>\n",
              "    </tr>\n",
              "    <tr>\n",
              "      <th>43074</th>\n",
              "      <td>Kettie</td>\n",
              "      <td>Bultitude</td>\n",
              "      <td>3.720000e+14</td>\n",
              "      <td>americanexpress</td>\n",
              "      <td>Uber</td>\n",
              "      <td>17.85</td>\n",
              "      <td>$20.27</td>\n",
              "      <td>30.78</td>\n",
              "      <td>MINI</td>\n",
              "      <td>2009</td>\n",
              "      <td>NaN</td>\n",
              "    </tr>\n",
              "    <tr>\n",
              "      <th>43075</th>\n",
              "      <td>Ashton</td>\n",
              "      <td>Corinton</td>\n",
              "      <td>6.380000e+15</td>\n",
              "      <td>instapayment</td>\n",
              "      <td>Uber</td>\n",
              "      <td>19.70</td>\n",
              "      <td>$36.63</td>\n",
              "      <td>33.97</td>\n",
              "      <td>Honda</td>\n",
              "      <td>2012</td>\n",
              "      <td>NaN</td>\n",
              "    </tr>\n",
              "    <tr>\n",
              "      <th>...</th>\n",
              "      <td>...</td>\n",
              "      <td>...</td>\n",
              "      <td>...</td>\n",
              "      <td>...</td>\n",
              "      <td>...</td>\n",
              "      <td>...</td>\n",
              "      <td>...</td>\n",
              "      <td>...</td>\n",
              "      <td>...</td>\n",
              "      <td>...</td>\n",
              "      <td>...</td>\n",
              "    </tr>\n",
              "    <tr>\n",
              "      <th>71498</th>\n",
              "      <td>Aristotle</td>\n",
              "      <td>Quarmby</td>\n",
              "      <td>3.590000e+15</td>\n",
              "      <td>jcb</td>\n",
              "      <td>Uber</td>\n",
              "      <td>17.35</td>\n",
              "      <td>$25.54</td>\n",
              "      <td>29.92</td>\n",
              "      <td>Cadillac</td>\n",
              "      <td>2002</td>\n",
              "      <td>NaN</td>\n",
              "    </tr>\n",
              "    <tr>\n",
              "      <th>71499</th>\n",
              "      <td>Desiree</td>\n",
              "      <td>Heinish</td>\n",
              "      <td>4.040000e+12</td>\n",
              "      <td>visa</td>\n",
              "      <td>Uber</td>\n",
              "      <td>21.11</td>\n",
              "      <td>$21.71</td>\n",
              "      <td>36.41</td>\n",
              "      <td>Ford</td>\n",
              "      <td>2011</td>\n",
              "      <td>NaN</td>\n",
              "    </tr>\n",
              "    <tr>\n",
              "      <th>71500</th>\n",
              "      <td>Adelaide</td>\n",
              "      <td>Shave</td>\n",
              "      <td>3.580000e+15</td>\n",
              "      <td>jcb</td>\n",
              "      <td>Uber</td>\n",
              "      <td>17.84</td>\n",
              "      <td>$32.84</td>\n",
              "      <td>30.76</td>\n",
              "      <td>Kia</td>\n",
              "      <td>2000</td>\n",
              "      <td>NaN</td>\n",
              "    </tr>\n",
              "    <tr>\n",
              "      <th>71501</th>\n",
              "      <td>Sascha</td>\n",
              "      <td>Williamson</td>\n",
              "      <td>3.560000e+15</td>\n",
              "      <td>jcb</td>\n",
              "      <td>Uber</td>\n",
              "      <td>13.40</td>\n",
              "      <td>$12.20</td>\n",
              "      <td>23.12</td>\n",
              "      <td>Mitsubishi</td>\n",
              "      <td>1995</td>\n",
              "      <td>NaN</td>\n",
              "    </tr>\n",
              "    <tr>\n",
              "      <th>71502</th>\n",
              "      <td>Grange</td>\n",
              "      <td>Chrystie</td>\n",
              "      <td>6.330000e+18</td>\n",
              "      <td>solo</td>\n",
              "      <td>Uber</td>\n",
              "      <td>17.59</td>\n",
              "      <td>$18.05</td>\n",
              "      <td>30.33</td>\n",
              "      <td>Mercedes-Benz</td>\n",
              "      <td>1988</td>\n",
              "      <td>NaN</td>\n",
              "    </tr>\n",
              "  </tbody>\n",
              "</table>\n",
              "<p>28432 rows × 11 columns</p>\n",
              "</div>"
            ],
            "text/plain": [
              "      Rider First Name Rider Last Name  ...  Car Year Vin Number\n",
              "43071         Clayborn       Cutsforth  ...      2011        NaN\n",
              "43072           Helene          Bowyer  ...      1996        NaN\n",
              "43073             Risa        Wethered  ...      2000        NaN\n",
              "43074           Kettie       Bultitude  ...      2009        NaN\n",
              "43075           Ashton        Corinton  ...      2012        NaN\n",
              "...                ...             ...  ...       ...        ...\n",
              "71498        Aristotle         Quarmby  ...      2002        NaN\n",
              "71499          Desiree         Heinish  ...      2011        NaN\n",
              "71500         Adelaide           Shave  ...      2000        NaN\n",
              "71501           Sascha      Williamson  ...      1995        NaN\n",
              "71502           Grange        Chrystie  ...      1988        NaN\n",
              "\n",
              "[28432 rows x 11 columns]"
            ]
          },
          "metadata": {
            "tags": []
          },
          "execution_count": 227
        }
      ]
    },
    {
      "cell_type": "code",
      "metadata": {
        "id": "sopejZ91bsNi",
        "outputId": "a617449f-cd0e-475e-bf4f-430cae7f97a5",
        "colab": {
          "base_uri": "https://localhost:8080/",
          "height": 34
        }
      },
      "source": [
        "denver_rider.size"
      ],
      "execution_count": null,
      "outputs": [
        {
          "output_type": "execute_result",
          "data": {
            "text/plain": [
              "1100000"
            ]
          },
          "metadata": {
            "tags": []
          },
          "execution_count": 228
        }
      ]
    },
    {
      "cell_type": "code",
      "metadata": {
        "id": "qB9ipHTqc-Ln",
        "outputId": "1157e7c2-c794-4f22-ed19-2f890b02d7d7",
        "colab": {
          "base_uri": "https://localhost:8080/",
          "height": 204
        }
      },
      "source": [
        "denver_rider_new = denver_rider[[\"Vendor\", \"Trip Distance (in Miles)\", \"Trip Cost\", \"Trip Time (in Minutes)\"]]\n",
        "denver_rider_new.head(5)"
      ],
      "execution_count": null,
      "outputs": [
        {
          "output_type": "execute_result",
          "data": {
            "text/html": [
              "<div>\n",
              "<style scoped>\n",
              "    .dataframe tbody tr th:only-of-type {\n",
              "        vertical-align: middle;\n",
              "    }\n",
              "\n",
              "    .dataframe tbody tr th {\n",
              "        vertical-align: top;\n",
              "    }\n",
              "\n",
              "    .dataframe thead th {\n",
              "        text-align: right;\n",
              "    }\n",
              "</style>\n",
              "<table border=\"1\" class=\"dataframe\">\n",
              "  <thead>\n",
              "    <tr style=\"text-align: right;\">\n",
              "      <th></th>\n",
              "      <th>Vendor</th>\n",
              "      <th>Trip Distance (in Miles)</th>\n",
              "      <th>Trip Cost</th>\n",
              "      <th>Trip Time (in Minutes)</th>\n",
              "    </tr>\n",
              "  </thead>\n",
              "  <tbody>\n",
              "    <tr>\n",
              "      <th>0</th>\n",
              "      <td>Taxi</td>\n",
              "      <td>22.62</td>\n",
              "      <td>$10.93</td>\n",
              "      <td>39.00</td>\n",
              "    </tr>\n",
              "    <tr>\n",
              "      <th>1</th>\n",
              "      <td>Taxi</td>\n",
              "      <td>16.95</td>\n",
              "      <td>$21.19</td>\n",
              "      <td>29.23</td>\n",
              "    </tr>\n",
              "    <tr>\n",
              "      <th>2</th>\n",
              "      <td>Taxi</td>\n",
              "      <td>15.50</td>\n",
              "      <td>$36.07</td>\n",
              "      <td>26.73</td>\n",
              "    </tr>\n",
              "    <tr>\n",
              "      <th>3</th>\n",
              "      <td>Taxi</td>\n",
              "      <td>17.85</td>\n",
              "      <td>$30.06</td>\n",
              "      <td>30.78</td>\n",
              "    </tr>\n",
              "    <tr>\n",
              "      <th>4</th>\n",
              "      <td>Taxi</td>\n",
              "      <td>19.70</td>\n",
              "      <td>$26.83</td>\n",
              "      <td>33.97</td>\n",
              "    </tr>\n",
              "  </tbody>\n",
              "</table>\n",
              "</div>"
            ],
            "text/plain": [
              "  Vendor  Trip Distance (in Miles) Trip Cost  Trip Time (in Minutes)\n",
              "0   Taxi                     22.62   $10.93                    39.00\n",
              "1   Taxi                     16.95   $21.19                    29.23\n",
              "2   Taxi                     15.50   $36.07                    26.73\n",
              "3   Taxi                     17.85   $30.06                    30.78\n",
              "4   Taxi                     19.70   $26.83                    33.97"
            ]
          },
          "metadata": {
            "tags": []
          },
          "execution_count": 229
        }
      ]
    },
    {
      "cell_type": "code",
      "metadata": {
        "id": "9_anVULiisSA",
        "outputId": "af3d9cba-ec87-4fa9-d52c-586656ed447a",
        "colab": {
          "base_uri": "https://localhost:8080/",
          "height": 34
        }
      },
      "source": [
        "denver_rider_new.Vendor.unique()"
      ],
      "execution_count": null,
      "outputs": [
        {
          "output_type": "execute_result",
          "data": {
            "text/plain": [
              "array(['Taxi', 'Uber', 'Lyft'], dtype=object)"
            ]
          },
          "metadata": {
            "tags": []
          },
          "execution_count": 230
        }
      ]
    },
    {
      "cell_type": "code",
      "metadata": {
        "id": "QTk4BPUHs8qJ",
        "outputId": "919d0dac-ca54-4fbc-b9c0-a28d2b9c2c2a",
        "colab": {
          "base_uri": "https://localhost:8080/",
          "height": 34
        }
      },
      "source": [
        "from google.colab import files\n",
        "denver_rider_new.to_csv('denver_rider.csv', sep='\\t')\n",
        "files.download('denver_rider.csv')"
      ],
      "execution_count": null,
      "outputs": [
        {
          "output_type": "display_data",
          "data": {
            "application/javascript": [
              "\n",
              "    async function download(id, filename, size) {\n",
              "      if (!google.colab.kernel.accessAllowed) {\n",
              "        return;\n",
              "      }\n",
              "      const div = document.createElement('div');\n",
              "      const label = document.createElement('label');\n",
              "      label.textContent = `Downloading \"${filename}\": `;\n",
              "      div.appendChild(label);\n",
              "      const progress = document.createElement('progress');\n",
              "      progress.max = size;\n",
              "      div.appendChild(progress);\n",
              "      document.body.appendChild(div);\n",
              "\n",
              "      const buffers = [];\n",
              "      let downloaded = 0;\n",
              "\n",
              "      const channel = await google.colab.kernel.comms.open(id);\n",
              "      // Send a message to notify the kernel that we're ready.\n",
              "      channel.send({})\n",
              "\n",
              "      for await (const message of channel.messages) {\n",
              "        // Send a message to notify the kernel that we're ready.\n",
              "        channel.send({})\n",
              "        if (message.buffers) {\n",
              "          for (const buffer of message.buffers) {\n",
              "            buffers.push(buffer);\n",
              "            downloaded += buffer.byteLength;\n",
              "            progress.value = downloaded;\n",
              "          }\n",
              "        }\n",
              "      }\n",
              "      const blob = new Blob(buffers, {type: 'application/binary'});\n",
              "      const a = document.createElement('a');\n",
              "      a.href = window.URL.createObjectURL(blob);\n",
              "      a.download = filename;\n",
              "      div.appendChild(a);\n",
              "      a.click();\n",
              "      div.remove();\n",
              "    }\n",
              "  "
            ],
            "text/plain": [
              "<IPython.core.display.Javascript object>"
            ]
          },
          "metadata": {
            "tags": []
          }
        },
        {
          "output_type": "display_data",
          "data": {
            "application/javascript": [
              "download(\"download_79f42666-1cfa-4f72-bceb-ac74cc01f3d0\", \"denver_rider.csv\", 3052376)"
            ],
            "text/plain": [
              "<IPython.core.display.Javascript object>"
            ]
          },
          "metadata": {
            "tags": []
          }
        }
      ]
    },
    {
      "cell_type": "code",
      "metadata": {
        "id": "UFUxf5TzoYmk"
      },
      "source": [
        "denver_consumer.dropna(inplace = True)"
      ],
      "execution_count": null,
      "outputs": []
    },
    {
      "cell_type": "code",
      "metadata": {
        "id": "u7RQFXwOsWjo",
        "outputId": "79480766-590a-436e-da4d-871a0101a39f",
        "colab": {
          "base_uri": "https://localhost:8080/",
          "height": 340
        }
      },
      "source": [
        "denver_consumer.head(5)"
      ],
      "execution_count": null,
      "outputs": [
        {
          "output_type": "execute_result",
          "data": {
            "text/html": [
              "<div>\n",
              "<style scoped>\n",
              "    .dataframe tbody tr th:only-of-type {\n",
              "        vertical-align: middle;\n",
              "    }\n",
              "\n",
              "    .dataframe tbody tr th {\n",
              "        vertical-align: top;\n",
              "    }\n",
              "\n",
              "    .dataframe thead th {\n",
              "        text-align: right;\n",
              "    }\n",
              "</style>\n",
              "<table border=\"1\" class=\"dataframe\">\n",
              "  <thead>\n",
              "    <tr style=\"text-align: right;\">\n",
              "      <th></th>\n",
              "      <th>first_name</th>\n",
              "      <th>last_name</th>\n",
              "      <th>Date of Birth</th>\n",
              "      <th>Current Job</th>\n",
              "      <th>Annual Salary</th>\n",
              "      <th>Total Debt</th>\n",
              "      <th>Number of Credit Cards</th>\n",
              "      <th>Number of Cars</th>\n",
              "      <th>Distance to work (in miles)</th>\n",
              "      <th>Living Situation</th>\n",
              "    </tr>\n",
              "  </thead>\n",
              "  <tbody>\n",
              "    <tr>\n",
              "      <th>0</th>\n",
              "      <td>Merralee</td>\n",
              "      <td>Fielding</td>\n",
              "      <td>9/14/2004</td>\n",
              "      <td>Chemical Engineer</td>\n",
              "      <td>$121,099.10</td>\n",
              "      <td>$14,058.12</td>\n",
              "      <td>10</td>\n",
              "      <td>0</td>\n",
              "      <td>22.62</td>\n",
              "      <td>House</td>\n",
              "    </tr>\n",
              "    <tr>\n",
              "      <th>5</th>\n",
              "      <td>Kristofor</td>\n",
              "      <td>Gudde</td>\n",
              "      <td>9/4/1987</td>\n",
              "      <td>Analyst Programmer</td>\n",
              "      <td>$131,612.54</td>\n",
              "      <td>$27,093.66</td>\n",
              "      <td>9</td>\n",
              "      <td>0</td>\n",
              "      <td>21.96</td>\n",
              "      <td>Studio</td>\n",
              "    </tr>\n",
              "    <tr>\n",
              "      <th>6</th>\n",
              "      <td>Dulci</td>\n",
              "      <td>Lys</td>\n",
              "      <td>11/9/1997</td>\n",
              "      <td>Analyst Programmer</td>\n",
              "      <td>$123,572.77</td>\n",
              "      <td>$34,334.27</td>\n",
              "      <td>9</td>\n",
              "      <td>0</td>\n",
              "      <td>13.29</td>\n",
              "      <td>House</td>\n",
              "    </tr>\n",
              "    <tr>\n",
              "      <th>7</th>\n",
              "      <td>Kalina</td>\n",
              "      <td>Ebourne</td>\n",
              "      <td>2/16/2002</td>\n",
              "      <td>Analyst Programmer</td>\n",
              "      <td>$129,468.32</td>\n",
              "      <td>$2,771.08</td>\n",
              "      <td>8</td>\n",
              "      <td>0</td>\n",
              "      <td>16.23</td>\n",
              "      <td>Apartment</td>\n",
              "    </tr>\n",
              "    <tr>\n",
              "      <th>8</th>\n",
              "      <td>Marlow</td>\n",
              "      <td>Berridge</td>\n",
              "      <td>12/1/1989</td>\n",
              "      <td>Nurse Practicioner</td>\n",
              "      <td>$129,346.61</td>\n",
              "      <td>$33,315.67</td>\n",
              "      <td>8</td>\n",
              "      <td>1</td>\n",
              "      <td>32.89</td>\n",
              "      <td>Studio</td>\n",
              "    </tr>\n",
              "  </tbody>\n",
              "</table>\n",
              "</div>"
            ],
            "text/plain": [
              "  first_name last_name  ... Distance to work (in miles) Living Situation\n",
              "0   Merralee  Fielding  ...                       22.62            House\n",
              "5  Kristofor     Gudde  ...                       21.96           Studio\n",
              "6      Dulci       Lys  ...                       13.29            House\n",
              "7     Kalina   Ebourne  ...                       16.23        Apartment\n",
              "8     Marlow  Berridge  ...                       32.89           Studio\n",
              "\n",
              "[5 rows x 10 columns]"
            ]
          },
          "metadata": {
            "tags": []
          },
          "execution_count": 233
        }
      ]
    },
    {
      "cell_type": "code",
      "metadata": {
        "id": "VBIRDDqrs44l",
        "outputId": "ebae4f5d-0dc5-4a96-8cca-acec6f9b1afc",
        "colab": {
          "base_uri": "https://localhost:8080/",
          "height": 34
        }
      },
      "source": [
        "from google.colab import files\n",
        "denver_consumer.to_csv('denver_consumer.csv', sep='\\t')\n",
        "files.download('denver_consumer.csv')"
      ],
      "execution_count": null,
      "outputs": [
        {
          "output_type": "display_data",
          "data": {
            "application/javascript": [
              "\n",
              "    async function download(id, filename, size) {\n",
              "      if (!google.colab.kernel.accessAllowed) {\n",
              "        return;\n",
              "      }\n",
              "      const div = document.createElement('div');\n",
              "      const label = document.createElement('label');\n",
              "      label.textContent = `Downloading \"${filename}\": `;\n",
              "      div.appendChild(label);\n",
              "      const progress = document.createElement('progress');\n",
              "      progress.max = size;\n",
              "      div.appendChild(progress);\n",
              "      document.body.appendChild(div);\n",
              "\n",
              "      const buffers = [];\n",
              "      let downloaded = 0;\n",
              "\n",
              "      const channel = await google.colab.kernel.comms.open(id);\n",
              "      // Send a message to notify the kernel that we're ready.\n",
              "      channel.send({})\n",
              "\n",
              "      for await (const message of channel.messages) {\n",
              "        // Send a message to notify the kernel that we're ready.\n",
              "        channel.send({})\n",
              "        if (message.buffers) {\n",
              "          for (const buffer of message.buffers) {\n",
              "            buffers.push(buffer);\n",
              "            downloaded += buffer.byteLength;\n",
              "            progress.value = downloaded;\n",
              "          }\n",
              "        }\n",
              "      }\n",
              "      const blob = new Blob(buffers, {type: 'application/binary'});\n",
              "      const a = document.createElement('a');\n",
              "      a.href = window.URL.createObjectURL(blob);\n",
              "      a.download = filename;\n",
              "      div.appendChild(a);\n",
              "      a.click();\n",
              "      div.remove();\n",
              "    }\n",
              "  "
            ],
            "text/plain": [
              "<IPython.core.display.Javascript object>"
            ]
          },
          "metadata": {
            "tags": []
          }
        },
        {
          "output_type": "display_data",
          "data": {
            "application/javascript": [
              "download(\"download_57678f8f-f894-4c6f-b16a-e08b6ab99fa5\", \"denver_consumer.csv\", 6060650)"
            ],
            "text/plain": [
              "<IPython.core.display.Javascript object>"
            ]
          },
          "metadata": {
            "tags": []
          }
        }
      ]
    },
    {
      "cell_type": "markdown",
      "metadata": {
        "id": "Lar5rhtJ2lFF"
      },
      "source": [
        "### Miami Data"
      ]
    },
    {
      "cell_type": "code",
      "metadata": {
        "id": "tdYl80_PurCI"
      },
      "source": [
        "path_miami_cons = \"/content/drive/My Drive/Deloitte_Datathon/Miami-Consumer.data.csv\""
      ],
      "execution_count": null,
      "outputs": []
    },
    {
      "cell_type": "code",
      "metadata": {
        "id": "bfJ_TyLX2Rhw"
      },
      "source": [
        "path_miami_rider = \"/content/drive/My Drive/Deloitte_Datathon/Miami-Rider-Data.csv\""
      ],
      "execution_count": null,
      "outputs": []
    },
    {
      "cell_type": "code",
      "metadata": {
        "id": "fJGnDBms2jav",
        "outputId": "35aa1843-3359-44a3-b8b1-3953255faac4",
        "colab": {
          "base_uri": "https://localhost:8080/",
          "height": 377
        }
      },
      "source": [
        "miami_consumer = pd.read_csv(path_miami_cons)\n",
        "miami_consumer.head(5)"
      ],
      "execution_count": null,
      "outputs": [
        {
          "output_type": "execute_result",
          "data": {
            "text/html": [
              "<div>\n",
              "<style scoped>\n",
              "    .dataframe tbody tr th:only-of-type {\n",
              "        vertical-align: middle;\n",
              "    }\n",
              "\n",
              "    .dataframe tbody tr th {\n",
              "        vertical-align: top;\n",
              "    }\n",
              "\n",
              "    .dataframe thead th {\n",
              "        text-align: right;\n",
              "    }\n",
              "</style>\n",
              "<table border=\"1\" class=\"dataframe\">\n",
              "  <thead>\n",
              "    <tr style=\"text-align: right;\">\n",
              "      <th></th>\n",
              "      <th>first_name</th>\n",
              "      <th>last_name</th>\n",
              "      <th>Date of Birth</th>\n",
              "      <th>Current Job</th>\n",
              "      <th>Company</th>\n",
              "      <th>Employee Number</th>\n",
              "      <th>Annual Salary</th>\n",
              "      <th>Total Debt</th>\n",
              "      <th>Number of Credit Cards</th>\n",
              "      <th>Number of Cars</th>\n",
              "      <th>Distance to work (in miles)</th>\n",
              "      <th>Living Situation</th>\n",
              "    </tr>\n",
              "  </thead>\n",
              "  <tbody>\n",
              "    <tr>\n",
              "      <th>0</th>\n",
              "      <td>Hinze</td>\n",
              "      <td>Ryce</td>\n",
              "      <td>6/13/1942</td>\n",
              "      <td>Help Desk Technician</td>\n",
              "      <td>Eabox</td>\n",
              "      <td>9178707129</td>\n",
              "      <td>$211,689.20</td>\n",
              "      <td>NaN</td>\n",
              "      <td>3</td>\n",
              "      <td>2</td>\n",
              "      <td>3.13</td>\n",
              "      <td>Apartment</td>\n",
              "    </tr>\n",
              "    <tr>\n",
              "      <th>1</th>\n",
              "      <td>Darb</td>\n",
              "      <td>Taylder</td>\n",
              "      <td>8/1/1956</td>\n",
              "      <td>Office Assistant III</td>\n",
              "      <td>Layo</td>\n",
              "      <td>5142242777</td>\n",
              "      <td>$151,540.86</td>\n",
              "      <td>$3,908.03</td>\n",
              "      <td>7</td>\n",
              "      <td>1</td>\n",
              "      <td>5.49</td>\n",
              "      <td>Apartment</td>\n",
              "    </tr>\n",
              "    <tr>\n",
              "      <th>2</th>\n",
              "      <td>Raphaela</td>\n",
              "      <td>Brimman</td>\n",
              "      <td>11/29/1961</td>\n",
              "      <td>Internal Auditor</td>\n",
              "      <td>Gabtune</td>\n",
              "      <td>1260941574</td>\n",
              "      <td>$179,492.95</td>\n",
              "      <td>$61,715.17</td>\n",
              "      <td>2</td>\n",
              "      <td>4</td>\n",
              "      <td>5.81</td>\n",
              "      <td>Apartment</td>\n",
              "    </tr>\n",
              "    <tr>\n",
              "      <th>3</th>\n",
              "      <td>Kinsley</td>\n",
              "      <td>Arnaudin</td>\n",
              "      <td>10/21/1987</td>\n",
              "      <td>Health Coach IV</td>\n",
              "      <td>Skinte</td>\n",
              "      <td>1055860061</td>\n",
              "      <td>$125,713.90</td>\n",
              "      <td>$48,528.38</td>\n",
              "      <td>9</td>\n",
              "      <td>4</td>\n",
              "      <td>7.06</td>\n",
              "      <td>Studio</td>\n",
              "    </tr>\n",
              "    <tr>\n",
              "      <th>4</th>\n",
              "      <td>Tomaso</td>\n",
              "      <td>Longhirst</td>\n",
              "      <td>4/29/1954</td>\n",
              "      <td>Payment Adjustment Coordinator</td>\n",
              "      <td>Wordware</td>\n",
              "      <td>4414527775</td>\n",
              "      <td>$162,707.67</td>\n",
              "      <td>$65,220.92</td>\n",
              "      <td>8</td>\n",
              "      <td>3</td>\n",
              "      <td>8.65</td>\n",
              "      <td>Townhouse</td>\n",
              "    </tr>\n",
              "  </tbody>\n",
              "</table>\n",
              "</div>"
            ],
            "text/plain": [
              "  first_name  last_name  ... Distance to work (in miles) Living Situation\n",
              "0      Hinze       Ryce  ...                        3.13        Apartment\n",
              "1       Darb    Taylder  ...                        5.49        Apartment\n",
              "2   Raphaela    Brimman  ...                        5.81        Apartment\n",
              "3    Kinsley   Arnaudin  ...                        7.06           Studio\n",
              "4     Tomaso  Longhirst  ...                        8.65        Townhouse\n",
              "\n",
              "[5 rows x 12 columns]"
            ]
          },
          "metadata": {
            "tags": []
          },
          "execution_count": 237
        }
      ]
    },
    {
      "cell_type": "code",
      "metadata": {
        "id": "-aC5rP4E3uT1",
        "outputId": "c003e672-c43e-43c2-d4f0-8713c25edc99",
        "colab": {
          "base_uri": "https://localhost:8080/",
          "height": 357
        }
      },
      "source": [
        "miami_consumer.dropna(inplace = True)\n",
        "miami_consumer.drop([\"Company\", \"Employee Number\"], axis = 1, inplace = True)\n",
        "miami_consumer.head(5)"
      ],
      "execution_count": null,
      "outputs": [
        {
          "output_type": "execute_result",
          "data": {
            "text/html": [
              "<div>\n",
              "<style scoped>\n",
              "    .dataframe tbody tr th:only-of-type {\n",
              "        vertical-align: middle;\n",
              "    }\n",
              "\n",
              "    .dataframe tbody tr th {\n",
              "        vertical-align: top;\n",
              "    }\n",
              "\n",
              "    .dataframe thead th {\n",
              "        text-align: right;\n",
              "    }\n",
              "</style>\n",
              "<table border=\"1\" class=\"dataframe\">\n",
              "  <thead>\n",
              "    <tr style=\"text-align: right;\">\n",
              "      <th></th>\n",
              "      <th>first_name</th>\n",
              "      <th>last_name</th>\n",
              "      <th>Date of Birth</th>\n",
              "      <th>Current Job</th>\n",
              "      <th>Annual Salary</th>\n",
              "      <th>Total Debt</th>\n",
              "      <th>Number of Credit Cards</th>\n",
              "      <th>Number of Cars</th>\n",
              "      <th>Distance to work (in miles)</th>\n",
              "      <th>Living Situation</th>\n",
              "    </tr>\n",
              "  </thead>\n",
              "  <tbody>\n",
              "    <tr>\n",
              "      <th>1</th>\n",
              "      <td>Darb</td>\n",
              "      <td>Taylder</td>\n",
              "      <td>8/1/1956</td>\n",
              "      <td>Office Assistant III</td>\n",
              "      <td>$151,540.86</td>\n",
              "      <td>$3,908.03</td>\n",
              "      <td>7</td>\n",
              "      <td>1</td>\n",
              "      <td>5.49</td>\n",
              "      <td>Apartment</td>\n",
              "    </tr>\n",
              "    <tr>\n",
              "      <th>2</th>\n",
              "      <td>Raphaela</td>\n",
              "      <td>Brimman</td>\n",
              "      <td>11/29/1961</td>\n",
              "      <td>Internal Auditor</td>\n",
              "      <td>$179,492.95</td>\n",
              "      <td>$61,715.17</td>\n",
              "      <td>2</td>\n",
              "      <td>4</td>\n",
              "      <td>5.81</td>\n",
              "      <td>Apartment</td>\n",
              "    </tr>\n",
              "    <tr>\n",
              "      <th>3</th>\n",
              "      <td>Kinsley</td>\n",
              "      <td>Arnaudin</td>\n",
              "      <td>10/21/1987</td>\n",
              "      <td>Health Coach IV</td>\n",
              "      <td>$125,713.90</td>\n",
              "      <td>$48,528.38</td>\n",
              "      <td>9</td>\n",
              "      <td>4</td>\n",
              "      <td>7.06</td>\n",
              "      <td>Studio</td>\n",
              "    </tr>\n",
              "    <tr>\n",
              "      <th>4</th>\n",
              "      <td>Tomaso</td>\n",
              "      <td>Longhirst</td>\n",
              "      <td>4/29/1954</td>\n",
              "      <td>Payment Adjustment Coordinator</td>\n",
              "      <td>$162,707.67</td>\n",
              "      <td>$65,220.92</td>\n",
              "      <td>8</td>\n",
              "      <td>3</td>\n",
              "      <td>8.65</td>\n",
              "      <td>Townhouse</td>\n",
              "    </tr>\n",
              "    <tr>\n",
              "      <th>5</th>\n",
              "      <td>Stavros</td>\n",
              "      <td>Renowden</td>\n",
              "      <td>10/4/1989</td>\n",
              "      <td>Web Designer II</td>\n",
              "      <td>$158,753.01</td>\n",
              "      <td>$30,188.69</td>\n",
              "      <td>10</td>\n",
              "      <td>4</td>\n",
              "      <td>5.36</td>\n",
              "      <td>Apartment</td>\n",
              "    </tr>\n",
              "  </tbody>\n",
              "</table>\n",
              "</div>"
            ],
            "text/plain": [
              "  first_name  last_name  ... Distance to work (in miles) Living Situation\n",
              "1       Darb    Taylder  ...                        5.49        Apartment\n",
              "2   Raphaela    Brimman  ...                        5.81        Apartment\n",
              "3    Kinsley   Arnaudin  ...                        7.06           Studio\n",
              "4     Tomaso  Longhirst  ...                        8.65        Townhouse\n",
              "5    Stavros   Renowden  ...                        5.36        Apartment\n",
              "\n",
              "[5 rows x 10 columns]"
            ]
          },
          "metadata": {
            "tags": []
          },
          "execution_count": 238
        }
      ]
    },
    {
      "cell_type": "code",
      "metadata": {
        "id": "68YCJdJI7QSM",
        "outputId": "c4ff93e6-1c35-4441-a4dc-a1a415dd93b4",
        "colab": {
          "base_uri": "https://localhost:8080/",
          "height": 34
        }
      },
      "source": [
        "from google.colab import files\n",
        "miami_consumer.to_csv('miami_consumer.csv', sep='\\t')\n",
        "files.download('miami_consumer.csv')"
      ],
      "execution_count": null,
      "outputs": [
        {
          "output_type": "display_data",
          "data": {
            "application/javascript": [
              "\n",
              "    async function download(id, filename, size) {\n",
              "      if (!google.colab.kernel.accessAllowed) {\n",
              "        return;\n",
              "      }\n",
              "      const div = document.createElement('div');\n",
              "      const label = document.createElement('label');\n",
              "      label.textContent = `Downloading \"${filename}\": `;\n",
              "      div.appendChild(label);\n",
              "      const progress = document.createElement('progress');\n",
              "      progress.max = size;\n",
              "      div.appendChild(progress);\n",
              "      document.body.appendChild(div);\n",
              "\n",
              "      const buffers = [];\n",
              "      let downloaded = 0;\n",
              "\n",
              "      const channel = await google.colab.kernel.comms.open(id);\n",
              "      // Send a message to notify the kernel that we're ready.\n",
              "      channel.send({})\n",
              "\n",
              "      for await (const message of channel.messages) {\n",
              "        // Send a message to notify the kernel that we're ready.\n",
              "        channel.send({})\n",
              "        if (message.buffers) {\n",
              "          for (const buffer of message.buffers) {\n",
              "            buffers.push(buffer);\n",
              "            downloaded += buffer.byteLength;\n",
              "            progress.value = downloaded;\n",
              "          }\n",
              "        }\n",
              "      }\n",
              "      const blob = new Blob(buffers, {type: 'application/binary'});\n",
              "      const a = document.createElement('a');\n",
              "      a.href = window.URL.createObjectURL(blob);\n",
              "      a.download = filename;\n",
              "      div.appendChild(a);\n",
              "      a.click();\n",
              "      div.remove();\n",
              "    }\n",
              "  "
            ],
            "text/plain": [
              "<IPython.core.display.Javascript object>"
            ]
          },
          "metadata": {
            "tags": []
          }
        },
        {
          "output_type": "display_data",
          "data": {
            "application/javascript": [
              "download(\"download_0c6bb87f-96f8-42dc-abb8-5aac3d315a47\", \"miami_consumer.csv\", 7099817)"
            ],
            "text/plain": [
              "<IPython.core.display.Javascript object>"
            ]
          },
          "metadata": {
            "tags": []
          }
        }
      ]
    },
    {
      "cell_type": "code",
      "metadata": {
        "id": "kMqEEHIV22OJ",
        "outputId": "54520a0b-b608-4413-fb38-03484b8e2786",
        "colab": {
          "base_uri": "https://localhost:8080/",
          "height": 326
        }
      },
      "source": [
        "miami_rider = pd.read_csv(path_miami_rider)\n",
        "miami_rider.head(5)"
      ],
      "execution_count": null,
      "outputs": [
        {
          "output_type": "execute_result",
          "data": {
            "text/html": [
              "<div>\n",
              "<style scoped>\n",
              "    .dataframe tbody tr th:only-of-type {\n",
              "        vertical-align: middle;\n",
              "    }\n",
              "\n",
              "    .dataframe tbody tr th {\n",
              "        vertical-align: top;\n",
              "    }\n",
              "\n",
              "    .dataframe thead th {\n",
              "        text-align: right;\n",
              "    }\n",
              "</style>\n",
              "<table border=\"1\" class=\"dataframe\">\n",
              "  <thead>\n",
              "    <tr style=\"text-align: right;\">\n",
              "      <th></th>\n",
              "      <th>Rider First Name</th>\n",
              "      <th>Rider Last Name</th>\n",
              "      <th>Credit Card Number</th>\n",
              "      <th>Credit Card Type</th>\n",
              "      <th>Vendor</th>\n",
              "      <th>Trip Distance (in Miles)</th>\n",
              "      <th>Trip Cost</th>\n",
              "      <th>Trip Time (in Minutes)</th>\n",
              "      <th>Car Make</th>\n",
              "      <th>Car Year</th>\n",
              "      <th>Vin Number</th>\n",
              "    </tr>\n",
              "  </thead>\n",
              "  <tbody>\n",
              "    <tr>\n",
              "      <th>0</th>\n",
              "      <td>Elie</td>\n",
              "      <td>Tonkinson</td>\n",
              "      <td>2.020000e+14</td>\n",
              "      <td>diners-club-enroute</td>\n",
              "      <td>Taxi</td>\n",
              "      <td>15.42</td>\n",
              "      <td>$35.44</td>\n",
              "      <td>26.59</td>\n",
              "      <td>Scion</td>\n",
              "      <td>2008</td>\n",
              "      <td>1NXBU4EE6AZ577601</td>\n",
              "    </tr>\n",
              "    <tr>\n",
              "      <th>1</th>\n",
              "      <td>Bucky</td>\n",
              "      <td>Roffey</td>\n",
              "      <td>3.540000e+15</td>\n",
              "      <td>jcb</td>\n",
              "      <td>Taxi</td>\n",
              "      <td>19.92</td>\n",
              "      <td>$54.07</td>\n",
              "      <td>34.36</td>\n",
              "      <td>Pontiac</td>\n",
              "      <td>2001</td>\n",
              "      <td>WAUAFAFHXAN451380</td>\n",
              "    </tr>\n",
              "    <tr>\n",
              "      <th>2</th>\n",
              "      <td>Wit</td>\n",
              "      <td>Jarred</td>\n",
              "      <td>3.580000e+15</td>\n",
              "      <td>jcb</td>\n",
              "      <td>Taxi</td>\n",
              "      <td>15.33</td>\n",
              "      <td>$52.69</td>\n",
              "      <td>26.44</td>\n",
              "      <td>Mercedes-Benz</td>\n",
              "      <td>1993</td>\n",
              "      <td>JN1AZ4EH4AM933767</td>\n",
              "    </tr>\n",
              "    <tr>\n",
              "      <th>3</th>\n",
              "      <td>Arthur</td>\n",
              "      <td>Giacoppo</td>\n",
              "      <td>6.770000e+18</td>\n",
              "      <td>solo</td>\n",
              "      <td>Taxi</td>\n",
              "      <td>20.84</td>\n",
              "      <td>$36.35</td>\n",
              "      <td>35.93</td>\n",
              "      <td>Mazda</td>\n",
              "      <td>2013</td>\n",
              "      <td>WAUHF78P66A034018</td>\n",
              "    </tr>\n",
              "    <tr>\n",
              "      <th>4</th>\n",
              "      <td>Alexio</td>\n",
              "      <td>Casolla</td>\n",
              "      <td>5.100000e+15</td>\n",
              "      <td>mastercard</td>\n",
              "      <td>Taxi</td>\n",
              "      <td>12.33</td>\n",
              "      <td>$37.29</td>\n",
              "      <td>21.27</td>\n",
              "      <td>BMW</td>\n",
              "      <td>2005</td>\n",
              "      <td>WBA3C1C52CA075621</td>\n",
              "    </tr>\n",
              "  </tbody>\n",
              "</table>\n",
              "</div>"
            ],
            "text/plain": [
              "  Rider First Name Rider Last Name  ...  Car Year         Vin Number\n",
              "0             Elie       Tonkinson  ...      2008  1NXBU4EE6AZ577601\n",
              "1            Bucky          Roffey  ...      2001  WAUAFAFHXAN451380\n",
              "2              Wit          Jarred  ...      1993  JN1AZ4EH4AM933767\n",
              "3           Arthur        Giacoppo  ...      2013  WAUHF78P66A034018\n",
              "4           Alexio         Casolla  ...      2005  WBA3C1C52CA075621\n",
              "\n",
              "[5 rows x 11 columns]"
            ]
          },
          "metadata": {
            "tags": []
          },
          "execution_count": 240
        }
      ]
    },
    {
      "cell_type": "code",
      "metadata": {
        "id": "pxPK1uUk3Dwv",
        "outputId": "fe18e8c5-9659-41e1-abeb-a8e42e9534e7",
        "colab": {
          "base_uri": "https://localhost:8080/",
          "height": 204
        }
      },
      "source": [
        "miami_rider_new = miami_rider[[\"Vendor\", \"Trip Distance (in Miles)\", \"Trip Cost\", \"Trip Time (in Minutes)\"]]\n",
        "miami_rider_new.head(5)"
      ],
      "execution_count": null,
      "outputs": [
        {
          "output_type": "execute_result",
          "data": {
            "text/html": [
              "<div>\n",
              "<style scoped>\n",
              "    .dataframe tbody tr th:only-of-type {\n",
              "        vertical-align: middle;\n",
              "    }\n",
              "\n",
              "    .dataframe tbody tr th {\n",
              "        vertical-align: top;\n",
              "    }\n",
              "\n",
              "    .dataframe thead th {\n",
              "        text-align: right;\n",
              "    }\n",
              "</style>\n",
              "<table border=\"1\" class=\"dataframe\">\n",
              "  <thead>\n",
              "    <tr style=\"text-align: right;\">\n",
              "      <th></th>\n",
              "      <th>Vendor</th>\n",
              "      <th>Trip Distance (in Miles)</th>\n",
              "      <th>Trip Cost</th>\n",
              "      <th>Trip Time (in Minutes)</th>\n",
              "    </tr>\n",
              "  </thead>\n",
              "  <tbody>\n",
              "    <tr>\n",
              "      <th>0</th>\n",
              "      <td>Taxi</td>\n",
              "      <td>15.42</td>\n",
              "      <td>$35.44</td>\n",
              "      <td>26.59</td>\n",
              "    </tr>\n",
              "    <tr>\n",
              "      <th>1</th>\n",
              "      <td>Taxi</td>\n",
              "      <td>19.92</td>\n",
              "      <td>$54.07</td>\n",
              "      <td>34.36</td>\n",
              "    </tr>\n",
              "    <tr>\n",
              "      <th>2</th>\n",
              "      <td>Taxi</td>\n",
              "      <td>15.33</td>\n",
              "      <td>$52.69</td>\n",
              "      <td>26.44</td>\n",
              "    </tr>\n",
              "    <tr>\n",
              "      <th>3</th>\n",
              "      <td>Taxi</td>\n",
              "      <td>20.84</td>\n",
              "      <td>$36.35</td>\n",
              "      <td>35.93</td>\n",
              "    </tr>\n",
              "    <tr>\n",
              "      <th>4</th>\n",
              "      <td>Taxi</td>\n",
              "      <td>12.33</td>\n",
              "      <td>$37.29</td>\n",
              "      <td>21.27</td>\n",
              "    </tr>\n",
              "  </tbody>\n",
              "</table>\n",
              "</div>"
            ],
            "text/plain": [
              "  Vendor  Trip Distance (in Miles) Trip Cost  Trip Time (in Minutes)\n",
              "0   Taxi                     15.42   $35.44                    26.59\n",
              "1   Taxi                     19.92   $54.07                    34.36\n",
              "2   Taxi                     15.33   $52.69                    26.44\n",
              "3   Taxi                     20.84   $36.35                    35.93\n",
              "4   Taxi                     12.33   $37.29                    21.27"
            ]
          },
          "metadata": {
            "tags": []
          },
          "execution_count": 241
        }
      ]
    },
    {
      "cell_type": "code",
      "metadata": {
        "id": "QrhPKAUB7WcO",
        "outputId": "cb2d1659-b489-4fce-cc93-fb4a4b5c9653",
        "colab": {
          "base_uri": "https://localhost:8080/",
          "height": 34
        }
      },
      "source": [
        "from google.colab import files\n",
        "miami_rider_new.to_csv('miami_rider.csv', sep='\\t')\n",
        "files.download('miami_rider.csv')"
      ],
      "execution_count": null,
      "outputs": [
        {
          "output_type": "display_data",
          "data": {
            "application/javascript": [
              "\n",
              "    async function download(id, filename, size) {\n",
              "      if (!google.colab.kernel.accessAllowed) {\n",
              "        return;\n",
              "      }\n",
              "      const div = document.createElement('div');\n",
              "      const label = document.createElement('label');\n",
              "      label.textContent = `Downloading \"${filename}\": `;\n",
              "      div.appendChild(label);\n",
              "      const progress = document.createElement('progress');\n",
              "      progress.max = size;\n",
              "      div.appendChild(progress);\n",
              "      document.body.appendChild(div);\n",
              "\n",
              "      const buffers = [];\n",
              "      let downloaded = 0;\n",
              "\n",
              "      const channel = await google.colab.kernel.comms.open(id);\n",
              "      // Send a message to notify the kernel that we're ready.\n",
              "      channel.send({})\n",
              "\n",
              "      for await (const message of channel.messages) {\n",
              "        // Send a message to notify the kernel that we're ready.\n",
              "        channel.send({})\n",
              "        if (message.buffers) {\n",
              "          for (const buffer of message.buffers) {\n",
              "            buffers.push(buffer);\n",
              "            downloaded += buffer.byteLength;\n",
              "            progress.value = downloaded;\n",
              "          }\n",
              "        }\n",
              "      }\n",
              "      const blob = new Blob(buffers, {type: 'application/binary'});\n",
              "      const a = document.createElement('a');\n",
              "      a.href = window.URL.createObjectURL(blob);\n",
              "      a.download = filename;\n",
              "      div.appendChild(a);\n",
              "      a.click();\n",
              "      div.remove();\n",
              "    }\n",
              "  "
            ],
            "text/plain": [
              "<IPython.core.display.Javascript object>"
            ]
          },
          "metadata": {
            "tags": []
          }
        },
        {
          "output_type": "display_data",
          "data": {
            "application/javascript": [
              "download(\"download_581dfb08-6562-4726-b4cf-98220a16ffb0\", \"miami_rider.csv\", 2974650)"
            ],
            "text/plain": [
              "<IPython.core.display.Javascript object>"
            ]
          },
          "metadata": {
            "tags": []
          }
        }
      ]
    },
    {
      "cell_type": "markdown",
      "metadata": {
        "id": "usbXfCBgsSuG"
      },
      "source": [
        "### Portland Data"
      ]
    },
    {
      "cell_type": "code",
      "metadata": {
        "id": "qr8-ATTV8kio"
      },
      "source": [
        "path_pc = \"/content/drive/My Drive/Deloitte_Datathon/Portland-Consumer-Data.csv\""
      ],
      "execution_count": null,
      "outputs": []
    },
    {
      "cell_type": "code",
      "metadata": {
        "id": "_Xx0P7prAcFt"
      },
      "source": [
        "path_pr = \"/content/drive/My Drive/Deloitte_Datathon/Portland-Rider-Data.csv\""
      ],
      "execution_count": null,
      "outputs": []
    },
    {
      "cell_type": "code",
      "metadata": {
        "id": "2K3d_ynMAn4y",
        "outputId": "0eca1548-954a-4569-acc9-d6173e8ac847",
        "colab": {
          "base_uri": "https://localhost:8080/",
          "height": 394
        }
      },
      "source": [
        "portland_consumer = pd.read_csv(path_pc)\n",
        "portland_consumer.head(5)"
      ],
      "execution_count": null,
      "outputs": [
        {
          "output_type": "execute_result",
          "data": {
            "text/html": [
              "<div>\n",
              "<style scoped>\n",
              "    .dataframe tbody tr th:only-of-type {\n",
              "        vertical-align: middle;\n",
              "    }\n",
              "\n",
              "    .dataframe tbody tr th {\n",
              "        vertical-align: top;\n",
              "    }\n",
              "\n",
              "    .dataframe thead th {\n",
              "        text-align: right;\n",
              "    }\n",
              "</style>\n",
              "<table border=\"1\" class=\"dataframe\">\n",
              "  <thead>\n",
              "    <tr style=\"text-align: right;\">\n",
              "      <th></th>\n",
              "      <th>first_name</th>\n",
              "      <th>last_name</th>\n",
              "      <th>Date of Birth</th>\n",
              "      <th>Current Job</th>\n",
              "      <th>Company</th>\n",
              "      <th>Employee Number</th>\n",
              "      <th>Annual Salary</th>\n",
              "      <th>Total Debt</th>\n",
              "      <th>Number of Credit Cards</th>\n",
              "      <th>Number of Cars</th>\n",
              "      <th>Distance to work (in miles)</th>\n",
              "      <th>Living Situation</th>\n",
              "    </tr>\n",
              "  </thead>\n",
              "  <tbody>\n",
              "    <tr>\n",
              "      <th>0</th>\n",
              "      <td>Peadar</td>\n",
              "      <td>Miguet</td>\n",
              "      <td>8/16/1998</td>\n",
              "      <td>Business Systems Development Analyst</td>\n",
              "      <td>Agimba</td>\n",
              "      <td>2381015647</td>\n",
              "      <td>$54,267.57</td>\n",
              "      <td>NaN</td>\n",
              "      <td>5</td>\n",
              "      <td>1</td>\n",
              "      <td>5.13</td>\n",
              "      <td>Apartment</td>\n",
              "    </tr>\n",
              "    <tr>\n",
              "      <th>1</th>\n",
              "      <td>Neddie</td>\n",
              "      <td>Beningfield</td>\n",
              "      <td>12/23/1968</td>\n",
              "      <td>Human Resources Manager</td>\n",
              "      <td>Chatterpoint</td>\n",
              "      <td>3300316308</td>\n",
              "      <td>$50,760.12</td>\n",
              "      <td>$16,866.35</td>\n",
              "      <td>6</td>\n",
              "      <td>2</td>\n",
              "      <td>7.49</td>\n",
              "      <td>Studio</td>\n",
              "    </tr>\n",
              "    <tr>\n",
              "      <th>2</th>\n",
              "      <td>Ardys</td>\n",
              "      <td>Leggat</td>\n",
              "      <td>9/2/1956</td>\n",
              "      <td>Environmental Specialist</td>\n",
              "      <td>Tambee</td>\n",
              "      <td>2841361845</td>\n",
              "      <td>$51,603.80</td>\n",
              "      <td>NaN</td>\n",
              "      <td>0</td>\n",
              "      <td>0</td>\n",
              "      <td>7.81</td>\n",
              "      <td>Studio</td>\n",
              "    </tr>\n",
              "    <tr>\n",
              "      <th>3</th>\n",
              "      <td>Aurora</td>\n",
              "      <td>Pendre</td>\n",
              "      <td>8/18/1986</td>\n",
              "      <td>Financial Advisor</td>\n",
              "      <td>Voolith</td>\n",
              "      <td>5655958635</td>\n",
              "      <td>$53,806.72</td>\n",
              "      <td>$54,503.84</td>\n",
              "      <td>4</td>\n",
              "      <td>0</td>\n",
              "      <td>9.06</td>\n",
              "      <td>House</td>\n",
              "    </tr>\n",
              "    <tr>\n",
              "      <th>4</th>\n",
              "      <td>Vernen</td>\n",
              "      <td>Collumbine</td>\n",
              "      <td>8/14/1985</td>\n",
              "      <td>Editor</td>\n",
              "      <td>Brightbean</td>\n",
              "      <td>8721129746</td>\n",
              "      <td>$54,045.33</td>\n",
              "      <td>$22,945.39</td>\n",
              "      <td>1</td>\n",
              "      <td>2</td>\n",
              "      <td>10.65</td>\n",
              "      <td>House</td>\n",
              "    </tr>\n",
              "  </tbody>\n",
              "</table>\n",
              "</div>"
            ],
            "text/plain": [
              "  first_name    last_name  ... Distance to work (in miles) Living Situation\n",
              "0     Peadar       Miguet  ...                        5.13        Apartment\n",
              "1     Neddie  Beningfield  ...                        7.49           Studio\n",
              "2      Ardys       Leggat  ...                        7.81           Studio\n",
              "3     Aurora       Pendre  ...                        9.06            House\n",
              "4     Vernen   Collumbine  ...                       10.65            House\n",
              "\n",
              "[5 rows x 12 columns]"
            ]
          },
          "metadata": {
            "tags": []
          },
          "execution_count": 245
        }
      ]
    },
    {
      "cell_type": "code",
      "metadata": {
        "id": "N8di6GWsCGDo",
        "outputId": "73f6f536-c867-488d-fe36-44ca5e05ba08",
        "colab": {
          "base_uri": "https://localhost:8080/",
          "height": 323
        }
      },
      "source": [
        "portland_consumer.dropna(inplace = True)\n",
        "portland_consumer.drop([\"Company\", \"Employee Number\"], axis = 1, inplace = True)\n",
        "portland_consumer.head(5)"
      ],
      "execution_count": null,
      "outputs": [
        {
          "output_type": "execute_result",
          "data": {
            "text/html": [
              "<div>\n",
              "<style scoped>\n",
              "    .dataframe tbody tr th:only-of-type {\n",
              "        vertical-align: middle;\n",
              "    }\n",
              "\n",
              "    .dataframe tbody tr th {\n",
              "        vertical-align: top;\n",
              "    }\n",
              "\n",
              "    .dataframe thead th {\n",
              "        text-align: right;\n",
              "    }\n",
              "</style>\n",
              "<table border=\"1\" class=\"dataframe\">\n",
              "  <thead>\n",
              "    <tr style=\"text-align: right;\">\n",
              "      <th></th>\n",
              "      <th>first_name</th>\n",
              "      <th>last_name</th>\n",
              "      <th>Date of Birth</th>\n",
              "      <th>Current Job</th>\n",
              "      <th>Annual Salary</th>\n",
              "      <th>Total Debt</th>\n",
              "      <th>Number of Credit Cards</th>\n",
              "      <th>Number of Cars</th>\n",
              "      <th>Distance to work (in miles)</th>\n",
              "      <th>Living Situation</th>\n",
              "    </tr>\n",
              "  </thead>\n",
              "  <tbody>\n",
              "    <tr>\n",
              "      <th>1</th>\n",
              "      <td>Neddie</td>\n",
              "      <td>Beningfield</td>\n",
              "      <td>12/23/1968</td>\n",
              "      <td>Human Resources Manager</td>\n",
              "      <td>$50,760.12</td>\n",
              "      <td>$16,866.35</td>\n",
              "      <td>6</td>\n",
              "      <td>2</td>\n",
              "      <td>7.49</td>\n",
              "      <td>Studio</td>\n",
              "    </tr>\n",
              "    <tr>\n",
              "      <th>3</th>\n",
              "      <td>Aurora</td>\n",
              "      <td>Pendre</td>\n",
              "      <td>8/18/1986</td>\n",
              "      <td>Financial Advisor</td>\n",
              "      <td>$53,806.72</td>\n",
              "      <td>$54,503.84</td>\n",
              "      <td>4</td>\n",
              "      <td>0</td>\n",
              "      <td>9.06</td>\n",
              "      <td>House</td>\n",
              "    </tr>\n",
              "    <tr>\n",
              "      <th>4</th>\n",
              "      <td>Vernen</td>\n",
              "      <td>Collumbine</td>\n",
              "      <td>8/14/1985</td>\n",
              "      <td>Editor</td>\n",
              "      <td>$54,045.33</td>\n",
              "      <td>$22,945.39</td>\n",
              "      <td>1</td>\n",
              "      <td>2</td>\n",
              "      <td>10.65</td>\n",
              "      <td>House</td>\n",
              "    </tr>\n",
              "    <tr>\n",
              "      <th>5</th>\n",
              "      <td>Erwin</td>\n",
              "      <td>Littlejohns</td>\n",
              "      <td>4/18/1969</td>\n",
              "      <td>Dental Hygienist</td>\n",
              "      <td>$59,288.72</td>\n",
              "      <td>$30,079.06</td>\n",
              "      <td>6</td>\n",
              "      <td>1</td>\n",
              "      <td>7.36</td>\n",
              "      <td>Studio</td>\n",
              "    </tr>\n",
              "    <tr>\n",
              "      <th>7</th>\n",
              "      <td>Iggy</td>\n",
              "      <td>Shirrell</td>\n",
              "      <td>6/3/1965</td>\n",
              "      <td>Operator</td>\n",
              "      <td>$52,967.14</td>\n",
              "      <td>$3,319.50</td>\n",
              "      <td>8</td>\n",
              "      <td>2</td>\n",
              "      <td>4.89</td>\n",
              "      <td>House</td>\n",
              "    </tr>\n",
              "  </tbody>\n",
              "</table>\n",
              "</div>"
            ],
            "text/plain": [
              "  first_name    last_name  ... Distance to work (in miles) Living Situation\n",
              "1     Neddie  Beningfield  ...                        7.49           Studio\n",
              "3     Aurora       Pendre  ...                        9.06            House\n",
              "4     Vernen   Collumbine  ...                       10.65            House\n",
              "5      Erwin  Littlejohns  ...                        7.36           Studio\n",
              "7       Iggy     Shirrell  ...                        4.89            House\n",
              "\n",
              "[5 rows x 10 columns]"
            ]
          },
          "metadata": {
            "tags": []
          },
          "execution_count": 246
        }
      ]
    },
    {
      "cell_type": "code",
      "metadata": {
        "id": "g5JaqUM9CpGp",
        "outputId": "5fa617a7-3979-46c8-eccb-580a1791c72a",
        "colab": {
          "base_uri": "https://localhost:8080/",
          "height": 34
        }
      },
      "source": [
        "from google.colab import files\n",
        "portland_consumer.to_csv('portland_consumer.csv', sep='\\t')\n",
        "files.download('portland_consumer.csv')"
      ],
      "execution_count": null,
      "outputs": [
        {
          "output_type": "display_data",
          "data": {
            "application/javascript": [
              "\n",
              "    async function download(id, filename, size) {\n",
              "      if (!google.colab.kernel.accessAllowed) {\n",
              "        return;\n",
              "      }\n",
              "      const div = document.createElement('div');\n",
              "      const label = document.createElement('label');\n",
              "      label.textContent = `Downloading \"${filename}\": `;\n",
              "      div.appendChild(label);\n",
              "      const progress = document.createElement('progress');\n",
              "      progress.max = size;\n",
              "      div.appendChild(progress);\n",
              "      document.body.appendChild(div);\n",
              "\n",
              "      const buffers = [];\n",
              "      let downloaded = 0;\n",
              "\n",
              "      const channel = await google.colab.kernel.comms.open(id);\n",
              "      // Send a message to notify the kernel that we're ready.\n",
              "      channel.send({})\n",
              "\n",
              "      for await (const message of channel.messages) {\n",
              "        // Send a message to notify the kernel that we're ready.\n",
              "        channel.send({})\n",
              "        if (message.buffers) {\n",
              "          for (const buffer of message.buffers) {\n",
              "            buffers.push(buffer);\n",
              "            downloaded += buffer.byteLength;\n",
              "            progress.value = downloaded;\n",
              "          }\n",
              "        }\n",
              "      }\n",
              "      const blob = new Blob(buffers, {type: 'application/binary'});\n",
              "      const a = document.createElement('a');\n",
              "      a.href = window.URL.createObjectURL(blob);\n",
              "      a.download = filename;\n",
              "      div.appendChild(a);\n",
              "      a.click();\n",
              "      div.remove();\n",
              "    }\n",
              "  "
            ],
            "text/plain": [
              "<IPython.core.display.Javascript object>"
            ]
          },
          "metadata": {
            "tags": []
          }
        },
        {
          "output_type": "display_data",
          "data": {
            "application/javascript": [
              "download(\"download_6257a707-32c8-4a5e-8c48-ab7ae4913f8e\", \"portland_consumer.csv\", 7229705)"
            ],
            "text/plain": [
              "<IPython.core.display.Javascript object>"
            ]
          },
          "metadata": {
            "tags": []
          }
        }
      ]
    },
    {
      "cell_type": "code",
      "metadata": {
        "id": "QYMtHEoNBTF3",
        "outputId": "9074d9a0-2b2a-4c03-9c3c-96917720d936",
        "colab": {
          "base_uri": "https://localhost:8080/",
          "height": 275
        }
      },
      "source": [
        "portland_rider = pd.read_csv(path_pr)\n",
        "portland_rider.head(5)"
      ],
      "execution_count": null,
      "outputs": [
        {
          "output_type": "execute_result",
          "data": {
            "text/html": [
              "<div>\n",
              "<style scoped>\n",
              "    .dataframe tbody tr th:only-of-type {\n",
              "        vertical-align: middle;\n",
              "    }\n",
              "\n",
              "    .dataframe tbody tr th {\n",
              "        vertical-align: top;\n",
              "    }\n",
              "\n",
              "    .dataframe thead th {\n",
              "        text-align: right;\n",
              "    }\n",
              "</style>\n",
              "<table border=\"1\" class=\"dataframe\">\n",
              "  <thead>\n",
              "    <tr style=\"text-align: right;\">\n",
              "      <th></th>\n",
              "      <th>Rider First Name</th>\n",
              "      <th>Rider Last Name</th>\n",
              "      <th>Credit Card Number</th>\n",
              "      <th>Credit Card Type</th>\n",
              "      <th>Vendor</th>\n",
              "      <th>Trip Distance (in Miles)</th>\n",
              "      <th>Trip Cost</th>\n",
              "      <th>Trip Time (in Minutes)</th>\n",
              "      <th>Car Make</th>\n",
              "      <th>Car Year</th>\n",
              "      <th>Vin Number</th>\n",
              "    </tr>\n",
              "  </thead>\n",
              "  <tbody>\n",
              "    <tr>\n",
              "      <th>0</th>\n",
              "      <td>Jerrilyn</td>\n",
              "      <td>Durbann</td>\n",
              "      <td>3.580000e+15</td>\n",
              "      <td>jcb</td>\n",
              "      <td>Taxi</td>\n",
              "      <td>12.39</td>\n",
              "      <td>$10.26</td>\n",
              "      <td>21.37</td>\n",
              "      <td>Oldsmobile</td>\n",
              "      <td>1993</td>\n",
              "      <td>1FTEW1C88FF099164</td>\n",
              "    </tr>\n",
              "    <tr>\n",
              "      <th>1</th>\n",
              "      <td>Farleigh</td>\n",
              "      <td>Sirett</td>\n",
              "      <td>3.580000e+15</td>\n",
              "      <td>jcb</td>\n",
              "      <td>Taxi</td>\n",
              "      <td>12.79</td>\n",
              "      <td>$6.94</td>\n",
              "      <td>22.06</td>\n",
              "      <td>BMW</td>\n",
              "      <td>2006</td>\n",
              "      <td>1G4GJ5E38DF168060</td>\n",
              "    </tr>\n",
              "    <tr>\n",
              "      <th>2</th>\n",
              "      <td>Georges</td>\n",
              "      <td>Edson</td>\n",
              "      <td>5.640000e+15</td>\n",
              "      <td>switch</td>\n",
              "      <td>Taxi</td>\n",
              "      <td>20.83</td>\n",
              "      <td>$21.50</td>\n",
              "      <td>35.92</td>\n",
              "      <td>Mazda</td>\n",
              "      <td>2001</td>\n",
              "      <td>WBAKX8C5XCC474452</td>\n",
              "    </tr>\n",
              "    <tr>\n",
              "      <th>3</th>\n",
              "      <td>Josey</td>\n",
              "      <td>Dumblton</td>\n",
              "      <td>5.100000e+15</td>\n",
              "      <td>mastercard</td>\n",
              "      <td>Taxi</td>\n",
              "      <td>14.49</td>\n",
              "      <td>$18.30</td>\n",
              "      <td>24.99</td>\n",
              "      <td>Chevrolet</td>\n",
              "      <td>1998</td>\n",
              "      <td>WAUDH78E86A069330</td>\n",
              "    </tr>\n",
              "    <tr>\n",
              "      <th>4</th>\n",
              "      <td>Bendite</td>\n",
              "      <td>Cherm</td>\n",
              "      <td>3.580000e+15</td>\n",
              "      <td>jcb</td>\n",
              "      <td>Taxi</td>\n",
              "      <td>18.25</td>\n",
              "      <td>$10.39</td>\n",
              "      <td>31.47</td>\n",
              "      <td>Mazda</td>\n",
              "      <td>1999</td>\n",
              "      <td>WA1LMAFE6BD775144</td>\n",
              "    </tr>\n",
              "  </tbody>\n",
              "</table>\n",
              "</div>"
            ],
            "text/plain": [
              "  Rider First Name Rider Last Name  ...  Car Year         Vin Number\n",
              "0         Jerrilyn         Durbann  ...      1993  1FTEW1C88FF099164\n",
              "1         Farleigh          Sirett  ...      2006  1G4GJ5E38DF168060\n",
              "2          Georges           Edson  ...      2001  WBAKX8C5XCC474452\n",
              "3            Josey        Dumblton  ...      1998  WAUDH78E86A069330\n",
              "4          Bendite           Cherm  ...      1999  WA1LMAFE6BD775144\n",
              "\n",
              "[5 rows x 11 columns]"
            ]
          },
          "metadata": {
            "tags": []
          },
          "execution_count": 248
        }
      ]
    },
    {
      "cell_type": "code",
      "metadata": {
        "id": "ZXJMK8dUCFQC",
        "outputId": "7bf0ffba-d5bd-4d47-c5bf-50605f55e064",
        "colab": {
          "base_uri": "https://localhost:8080/",
          "height": 204
        }
      },
      "source": [
        "portland_rider_new = portland_rider[[\"Vendor\", \"Trip Distance (in Miles)\", \"Trip Cost\", \"Trip Time (in Minutes)\"]]\n",
        "portland_rider_new.head(5)"
      ],
      "execution_count": null,
      "outputs": [
        {
          "output_type": "execute_result",
          "data": {
            "text/html": [
              "<div>\n",
              "<style scoped>\n",
              "    .dataframe tbody tr th:only-of-type {\n",
              "        vertical-align: middle;\n",
              "    }\n",
              "\n",
              "    .dataframe tbody tr th {\n",
              "        vertical-align: top;\n",
              "    }\n",
              "\n",
              "    .dataframe thead th {\n",
              "        text-align: right;\n",
              "    }\n",
              "</style>\n",
              "<table border=\"1\" class=\"dataframe\">\n",
              "  <thead>\n",
              "    <tr style=\"text-align: right;\">\n",
              "      <th></th>\n",
              "      <th>Vendor</th>\n",
              "      <th>Trip Distance (in Miles)</th>\n",
              "      <th>Trip Cost</th>\n",
              "      <th>Trip Time (in Minutes)</th>\n",
              "    </tr>\n",
              "  </thead>\n",
              "  <tbody>\n",
              "    <tr>\n",
              "      <th>0</th>\n",
              "      <td>Taxi</td>\n",
              "      <td>12.39</td>\n",
              "      <td>$10.26</td>\n",
              "      <td>21.37</td>\n",
              "    </tr>\n",
              "    <tr>\n",
              "      <th>1</th>\n",
              "      <td>Taxi</td>\n",
              "      <td>12.79</td>\n",
              "      <td>$6.94</td>\n",
              "      <td>22.06</td>\n",
              "    </tr>\n",
              "    <tr>\n",
              "      <th>2</th>\n",
              "      <td>Taxi</td>\n",
              "      <td>20.83</td>\n",
              "      <td>$21.50</td>\n",
              "      <td>35.92</td>\n",
              "    </tr>\n",
              "    <tr>\n",
              "      <th>3</th>\n",
              "      <td>Taxi</td>\n",
              "      <td>14.49</td>\n",
              "      <td>$18.30</td>\n",
              "      <td>24.99</td>\n",
              "    </tr>\n",
              "    <tr>\n",
              "      <th>4</th>\n",
              "      <td>Taxi</td>\n",
              "      <td>18.25</td>\n",
              "      <td>$10.39</td>\n",
              "      <td>31.47</td>\n",
              "    </tr>\n",
              "  </tbody>\n",
              "</table>\n",
              "</div>"
            ],
            "text/plain": [
              "  Vendor  Trip Distance (in Miles) Trip Cost  Trip Time (in Minutes)\n",
              "0   Taxi                     12.39    $10.26                   21.37\n",
              "1   Taxi                     12.79     $6.94                   22.06\n",
              "2   Taxi                     20.83    $21.50                   35.92\n",
              "3   Taxi                     14.49    $18.30                   24.99\n",
              "4   Taxi                     18.25    $10.39                   31.47"
            ]
          },
          "metadata": {
            "tags": []
          },
          "execution_count": 249
        }
      ]
    },
    {
      "cell_type": "code",
      "metadata": {
        "id": "_D5qBdYyDSkA",
        "outputId": "f6662c47-26be-4827-e30d-9cc51c6254da",
        "colab": {
          "base_uri": "https://localhost:8080/",
          "height": 34
        }
      },
      "source": [
        "from google.colab import files\n",
        "portland_rider_new.to_csv('portland_rider.csv', sep='\\t')\n",
        "files.download('portland_rider.csv')"
      ],
      "execution_count": null,
      "outputs": [
        {
          "output_type": "display_data",
          "data": {
            "application/javascript": [
              "\n",
              "    async function download(id, filename, size) {\n",
              "      if (!google.colab.kernel.accessAllowed) {\n",
              "        return;\n",
              "      }\n",
              "      const div = document.createElement('div');\n",
              "      const label = document.createElement('label');\n",
              "      label.textContent = `Downloading \"${filename}\": `;\n",
              "      div.appendChild(label);\n",
              "      const progress = document.createElement('progress');\n",
              "      progress.max = size;\n",
              "      div.appendChild(progress);\n",
              "      document.body.appendChild(div);\n",
              "\n",
              "      const buffers = [];\n",
              "      let downloaded = 0;\n",
              "\n",
              "      const channel = await google.colab.kernel.comms.open(id);\n",
              "      // Send a message to notify the kernel that we're ready.\n",
              "      channel.send({})\n",
              "\n",
              "      for await (const message of channel.messages) {\n",
              "        // Send a message to notify the kernel that we're ready.\n",
              "        channel.send({})\n",
              "        if (message.buffers) {\n",
              "          for (const buffer of message.buffers) {\n",
              "            buffers.push(buffer);\n",
              "            downloaded += buffer.byteLength;\n",
              "            progress.value = downloaded;\n",
              "          }\n",
              "        }\n",
              "      }\n",
              "      const blob = new Blob(buffers, {type: 'application/binary'});\n",
              "      const a = document.createElement('a');\n",
              "      a.href = window.URL.createObjectURL(blob);\n",
              "      a.download = filename;\n",
              "      div.appendChild(a);\n",
              "      a.click();\n",
              "      div.remove();\n",
              "    }\n",
              "  "
            ],
            "text/plain": [
              "<IPython.core.display.Javascript object>"
            ]
          },
          "metadata": {
            "tags": []
          }
        },
        {
          "output_type": "display_data",
          "data": {
            "application/javascript": [
              "download(\"download_357b6dfe-fda5-479a-a9e6-1179a1ffa1b1\", \"portland_rider.csv\", 2923119)"
            ],
            "text/plain": [
              "<IPython.core.display.Javascript object>"
            ]
          },
          "metadata": {
            "tags": []
          }
        }
      ]
    },
    {
      "cell_type": "markdown",
      "metadata": {
        "id": "uMdimGUzup3M"
      },
      "source": [
        "## EDA"
      ]
    },
    {
      "cell_type": "code",
      "metadata": {
        "id": "FPQBpBGdun6I",
        "outputId": "c6b49852-219f-43a5-91ac-92614e3a819a",
        "colab": {
          "base_uri": "https://localhost:8080/",
          "height": 244
        }
      },
      "source": [
        "denver_consumer.head(3)"
      ],
      "execution_count": null,
      "outputs": [
        {
          "output_type": "execute_result",
          "data": {
            "text/html": [
              "<div>\n",
              "<style scoped>\n",
              "    .dataframe tbody tr th:only-of-type {\n",
              "        vertical-align: middle;\n",
              "    }\n",
              "\n",
              "    .dataframe tbody tr th {\n",
              "        vertical-align: top;\n",
              "    }\n",
              "\n",
              "    .dataframe thead th {\n",
              "        text-align: right;\n",
              "    }\n",
              "</style>\n",
              "<table border=\"1\" class=\"dataframe\">\n",
              "  <thead>\n",
              "    <tr style=\"text-align: right;\">\n",
              "      <th></th>\n",
              "      <th>first_name</th>\n",
              "      <th>last_name</th>\n",
              "      <th>Date of Birth</th>\n",
              "      <th>Current Job</th>\n",
              "      <th>Annual Salary</th>\n",
              "      <th>Total Debt</th>\n",
              "      <th>Number of Credit Cards</th>\n",
              "      <th>Number of Cars</th>\n",
              "      <th>Distance to work (in miles)</th>\n",
              "      <th>Living Situation</th>\n",
              "    </tr>\n",
              "  </thead>\n",
              "  <tbody>\n",
              "    <tr>\n",
              "      <th>0</th>\n",
              "      <td>Merralee</td>\n",
              "      <td>Fielding</td>\n",
              "      <td>9/14/2004</td>\n",
              "      <td>Chemical Engineer</td>\n",
              "      <td>$121,099.10</td>\n",
              "      <td>$14,058.12</td>\n",
              "      <td>10</td>\n",
              "      <td>0</td>\n",
              "      <td>22.62</td>\n",
              "      <td>House</td>\n",
              "    </tr>\n",
              "    <tr>\n",
              "      <th>5</th>\n",
              "      <td>Kristofor</td>\n",
              "      <td>Gudde</td>\n",
              "      <td>9/4/1987</td>\n",
              "      <td>Analyst Programmer</td>\n",
              "      <td>$131,612.54</td>\n",
              "      <td>$27,093.66</td>\n",
              "      <td>9</td>\n",
              "      <td>0</td>\n",
              "      <td>21.96</td>\n",
              "      <td>Studio</td>\n",
              "    </tr>\n",
              "    <tr>\n",
              "      <th>6</th>\n",
              "      <td>Dulci</td>\n",
              "      <td>Lys</td>\n",
              "      <td>11/9/1997</td>\n",
              "      <td>Analyst Programmer</td>\n",
              "      <td>$123,572.77</td>\n",
              "      <td>$34,334.27</td>\n",
              "      <td>9</td>\n",
              "      <td>0</td>\n",
              "      <td>13.29</td>\n",
              "      <td>House</td>\n",
              "    </tr>\n",
              "  </tbody>\n",
              "</table>\n",
              "</div>"
            ],
            "text/plain": [
              "  first_name last_name  ... Distance to work (in miles) Living Situation\n",
              "0   Merralee  Fielding  ...                       22.62            House\n",
              "5  Kristofor     Gudde  ...                       21.96           Studio\n",
              "6      Dulci       Lys  ...                       13.29            House\n",
              "\n",
              "[3 rows x 10 columns]"
            ]
          },
          "metadata": {
            "tags": []
          },
          "execution_count": 251
        }
      ]
    },
    {
      "cell_type": "code",
      "metadata": {
        "id": "U7v6-pN2uvin"
      },
      "source": [
        "dist_living = denver_consumer[[\"Distance to work (in miles)\", \"Living Situation\"]].groupby(\"Living Situation\").sum(\"Distance to work (in miles)\")"
      ],
      "execution_count": null,
      "outputs": []
    },
    {
      "cell_type": "code",
      "metadata": {
        "id": "eFcVH1LCvKLu",
        "outputId": "d7202c9f-ab95-4149-da3b-5c5e7269a4fa",
        "colab": {
          "base_uri": "https://localhost:8080/",
          "height": 204
        }
      },
      "source": [
        "dist_living.head(5)"
      ],
      "execution_count": null,
      "outputs": [
        {
          "output_type": "execute_result",
          "data": {
            "text/html": [
              "<div>\n",
              "<style scoped>\n",
              "    .dataframe tbody tr th:only-of-type {\n",
              "        vertical-align: middle;\n",
              "    }\n",
              "\n",
              "    .dataframe tbody tr th {\n",
              "        vertical-align: top;\n",
              "    }\n",
              "\n",
              "    .dataframe thead th {\n",
              "        text-align: right;\n",
              "    }\n",
              "</style>\n",
              "<table border=\"1\" class=\"dataframe\">\n",
              "  <thead>\n",
              "    <tr style=\"text-align: right;\">\n",
              "      <th></th>\n",
              "      <th>Distance to work (in miles)</th>\n",
              "    </tr>\n",
              "    <tr>\n",
              "      <th>Living Situation</th>\n",
              "      <th></th>\n",
              "    </tr>\n",
              "  </thead>\n",
              "  <tbody>\n",
              "    <tr>\n",
              "      <th>Apartment</th>\n",
              "      <td>277880.68</td>\n",
              "    </tr>\n",
              "    <tr>\n",
              "      <th>House</th>\n",
              "      <td>277281.19</td>\n",
              "    </tr>\n",
              "    <tr>\n",
              "      <th>Studio</th>\n",
              "      <td>279037.33</td>\n",
              "    </tr>\n",
              "    <tr>\n",
              "      <th>Townhouse</th>\n",
              "      <td>281144.15</td>\n",
              "    </tr>\n",
              "  </tbody>\n",
              "</table>\n",
              "</div>"
            ],
            "text/plain": [
              "                  Distance to work (in miles)\n",
              "Living Situation                             \n",
              "Apartment                           277880.68\n",
              "House                               277281.19\n",
              "Studio                              279037.33\n",
              "Townhouse                           281144.15"
            ]
          },
          "metadata": {
            "tags": []
          },
          "execution_count": 253
        }
      ]
    },
    {
      "cell_type": "code",
      "metadata": {
        "id": "keVKMS0zxwvd"
      },
      "source": [
        ""
      ],
      "execution_count": null,
      "outputs": []
    }
  ]
}